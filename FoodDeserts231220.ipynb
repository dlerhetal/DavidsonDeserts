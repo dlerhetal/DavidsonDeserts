{
 "cells": [
  {
   "cell_type": "code",
   "execution_count": 2,
   "id": "54926108",
   "metadata": {},
   "outputs": [],
   "source": [
    "# Dependencies and Setup\n",
    "import hvplot.pandas\n",
    "import pandas as pd\n",
    "import requests\n",
    "\n"
   ]
  },
  {
   "cell_type": "code",
   "execution_count": 5,
   "id": "bf9df5ed",
   "metadata": {},
   "outputs": [
    {
     "name": "stdout",
     "output_type": "stream",
     "text": [
      "Publix Supermarket 1010 Dr Martin L King Jr Blvd\n",
      "Publix 4324 Harding Pike\n",
      "Whole Foods - Broadway 1202 Broadway\n",
      "Publix 2223 8th Ave S\n",
      "Publix 2324 Lebanon Pike\n",
      "Trader Joe's 3909 Hillsboro Pike\n",
      "Whole Foods Market 1202 Broadway\n",
      "Kroger 2201 21st Ave. S\n",
      "Southernaire Market 150 3rd Ave S\n",
      "The Fresh Market 235 Franklin Road\n",
      "Kroger 2615 Franklin Pike\n",
      "Kroger 800 Monroe St\n",
      "Walmart Supercenter 2421 Powell Ave\n",
      "Kroger 2131 Abbott Martin Rd\n",
      "The Turnip Truck - Gulch 321 12th Ave S\n",
      "Kroger 2284 Murfreesboro Pike\n",
      "Patel Brothers 420 Harding Pl\n",
      "Piggly Wiggly 2317 Dickerson Pike\n",
      "Publix Super Markets 8028 Highway 100\n",
      "Smokin Oaks Organic Farms Market 2116 8th Ave S\n",
      "The BE Hive 2414 Gallatin Ave\n",
      "Tony's Food Land 5529 Clarksville Pike\n",
      "Uptown Fruit Market  1431 Dickerson Pike\n",
      "Sprouts Farmers Market 7620 Highway 70 S\n",
      "Publix Super Markets 101 Creekside Crossing\n",
      "ALDI 615 Gallatin Ave\n",
      "The Produce Place 4000 Murphy Rd\n",
      "Publix 1111 Gallatin Ave\n",
      "Kroger 143 Mcgavock Pike\n",
      "Whole Foods Market 4021 Hillsboro Pike\n",
      "Garden Fresh Food Market 800 Madison Sq\n",
      "Publix Super Market- Nashville 6614 Charlotte Pike\n",
      "Savi Urban Market 415 Church St\n",
      "Silo Market 5500 Centennial Blvd\n",
      "The Turnip Truck - East Nashville 701 Woodland St\n",
      "Delta Marketplace 2800 Opryland Dr\n",
      "Kroger 3410 Gallatin Pike\n",
      "Kroger 305 Independence Square\n",
      "Kroger 61 E thompson Ln\n",
      "Walmart Neighborhood Market 5531 Edmondson Pike\n",
      "Osborne's Bi-Rite 3116 Belmont Blvd\n",
      "La Hacienda Market & Bakery 2617 Nolensville Pike\n",
      "ALDI 3758 Nolensville Pike\n",
      "Whole Foods Market 1566 W McEwen Dr\n",
      "Sperry's Mercantile 5107 Harding Pike\n",
      "Trader Joe's 90 White Bridge Rd\n",
      "Publix Super Markets 15544 Old Hickory Blvd\n",
      "The LoCal Distro 614 Garfield St\n",
      "Kroger 210 Franklin Rd.\n",
      "Madison Inglewood Market 4702 Gallatin Pike\n",
      "Kroger 4560 Harding Pike\n",
      "Kroger 3410 Gallatin Pike\n",
      "Trader Joe's 545 Cool Springs Blvd\n",
      "Walmart Supercenter 2232 Gallatin Pike N\n",
      "Food Lion 3636 Bell Rd\n",
      "Publix Super Markets 460 Long Hollow Pike\n",
      "Sulav International Market 4647 Nolensville Pike\n",
      "Publix 665 S Mount Juliet Rd\n",
      "Kroger 7087 Highway 70 S\n",
      "Kroger 5705 Charlotte Pike\n",
      "Walmart Supercenter 3458 Dickerson Pike\n",
      "Piggly Wiggly 1439 Robinson Rd\n",
      "Publix at Bowie Commons 7014 City Center Way\n",
      "4 Way Market 1401 Fatherland St\n",
      "Compton's Foodland 2808 Old Smith Springs Rd\n",
      "United Grocery Outlet 117 SE Broad St\n",
      "Publix Super Markets 3566 Murfreesboro Pike\n",
      "Houston Meat & Produce 3930 N Mount Juliet Rd\n",
      "Kroger 401 S Mount Juliet Rd\n",
      "H.G. Hill Food Store 2498 Highway 49 E\n",
      "Rosie's Market 3900 Charlotte Ave\n",
      "Walmart Supercenter 204 N Anderson Ln\n",
      "Porter Road Butcher 501 Gallatin Ave\n",
      "Publix Super Markets 8105 Moores Ln\n",
      "Soberdough 5515 Edmondson Pike\n",
      "Kroger 2449 Old Fort Pkwy\n",
      "Kroger 5544 Old Hickory Blvd\n",
      "Publix Supermarkets 2020 Fieldstone Pkwy\n",
      "ALDI 405 American Rd\n",
      "Sprouts Farmers Market 1010 Murfreesboro Rd\n",
      "Swetts Market 702 28th Ave N\n",
      "H.G. Hill Market 200 W Broadway\n",
      "Lawrence Foods 134 W Kingston Springs Rd\n",
      "Publix Super Markets 10638 Concord Rd\n",
      "GFS Gordon Food Service 465 N Thompson Ln\n",
      "Dollar General 1510 Branch St\n",
      "Publix Super Markets 110 Indian Lake Blvd\n",
      "Osborne Bi-Rite 3302 Nolensville Pike\n",
      "Walmart Neighborhood Market 1153 Fortress Blvd\n",
      "Walmart Supercenter 7044 Charlotte Pike\n",
      "Granny White Market 5301 Granny White Pike\n",
      "ALDI 1911 Ransom Pl\n",
      "Kroger 5319 Mount View Rd\n",
      "Kroger 5713 Edmondson Pike\n",
      "GFS Marketplace 317 Bluebird\n",
      "ALDI 405 American Rd\n",
      "Walmart Neighborhood Market 109 Gallatin Pike N\n",
      "Walmart Supercenter 570 Enon Springs Rd E\n",
      "Publix Super Markets 4670 Lebanon Pike\n",
      "Rice’s Country Hams 12217 Lebanon Rd\n",
      "Chico's Market 859 Briley Pkwy\n",
      "Publix Super Markets 11207 Lebanon Rd\n",
      "Kroger 200 Gallatin Pike S\n",
      "Publix Super Markets 661 President Pl\n",
      "Walmart Supercenter 5511 Murfreesboro Rd\n",
      "Publix Super Markets 1483 Nashville Pike\n",
      "Kroger 123 Northcreek Blvd\n",
      "Supermarket Foodtown 5312 Cane Ridge Rd\n",
      "Publix Super Markets 1640 Lee Victory Pkwy\n",
      "Lee's Market 310 17th Ave N\n",
      "Los Altos Market 621 Hwy 76\n",
      "Supermercado y Carniceria La Vaquita 2704 Nolensville Pike\n",
      "Weiss Drive-In Market 826 Main St\n",
      "Community Market 614 Garfield St\n",
      "Food Lion 936 Richards Rd\n",
      "Publix 1021 Riverside Dr\n",
      "Cash Saver 213 West Main St\n",
      "Publix Super Markets 1731 S Rutherford Blvd\n",
      "Laverte's Market 1313 51st Ave N\n",
      "Kroger 5145 Murfreesboro Rd\n",
      "Kroger 8141 State Highway 100\n",
      "Food Lion 471 E Main St\n",
      "Finch's Country Store 438 Highway 70\n",
      "Cash Saver 795 South Main St\n",
      "Alrayan Market & Restaurant 1107 Memorial Blvd 107\n",
      "Kroger 845 Nashville Pike\n",
      "Sprouts Farmers Market 143 Wendelwood Dr\n",
      "Kroger 6690 Nolensville Rd\n",
      "Kroger 463 Sam Ridley Pkwy W\n",
      "Publix Super Market at Newman's Crossing 1931 Long Hollow Pike\n",
      "Walmart Supercenter 300 Pleasant Grove Rd\n",
      "Save A Lot 1113 Murfreesboro Pike\n",
      "Publix - Lebanon 445 Hwy 109 N\n",
      "Walmart Supercenter 4040 Nolensville Pike\n",
      "Walmart Supercenter 1626 Highway 12 S\n",
      "Tim's Market 1535 Columbia Ave\n",
      "ALDI 7035 Highway 70 S\n",
      "Garibaldi Market 2402 Dickerson Pike\n",
      "A & H Mart 1104 Murfreesboro Pike\n",
      "Walmart Supercenter 7100 Hopgood Rd\n",
      "Walmart Supercenter 1112 Nashville Pike\n",
      "DG Market + pOpshelf 240 Ren Mar Dr\n",
      "Walmart Supercenter 5824 Nolensville Pike\n",
      "ALDI 4751 Lebanon Pike\n",
      "Cantrell Market 600 Rivergate Pkwy\n",
      "Kroger Marketplace 2011 Nashville Pike\n",
      "ALDI 315 N Mt Juliet Rd\n",
      "Merchant's Mart 1800 Elm Hill Pike\n",
      "Publix Super Markets 5021 Hughes Crossing\n",
      "Crossroads IGA 2127 US Hwy 41\n",
      "Publix 2650 St Andrews Dr\n",
      "Kroger 4432 Veterans Pkwy\n",
      "Kroger 237 E Main St\n",
      "Reed's Produce & Garden Center 342 4th Ave N\n",
      "Trinity Lane Market 1905 Meridian St\n",
      "Publix Super Markets 1400 Liberty Pike\n",
      "Dollar General 4977 Florence Rd\n",
      "Kroger 1203 Murfreesboro Road\n",
      "DG Market + pOpshelf 5445 Nolensville Rd\n",
      "ALDI 209 S Royal Oaks Blvd\n",
      "Publix 3710 Annex Ave\n",
      "Food Lion Inc Store Nbr 693 314 Frey St\n",
      "Kroger 411 Whitman Road\n",
      "Huff's Grocery & Deli 5452 Carters Creek Pike\n",
      "Mexicali Market 3922 Lebanon Pike\n",
      "Almaville Market 7586 Almaville Rd\n",
      "Glenn's Grocery 4778 Peytonsville Rd\n",
      "Highway 100 Market & Deli 8993 Hwy 100\n",
      "Elysian Market 3815 Nolensville Pike\n",
      "DG Market + pOpshelf 2907 Highway 31 W\n",
      "Litton's Corner Market 2830 Gallatin Pike\n",
      "Kroger 3054 Columbia Ave\n",
      "India Bazaar 330 Mayfield Dr\n",
      "Food Lion 11459 Old Nashville Hwy\n",
      "ALDI 571 Village Green Dr\n",
      "Worsham's Store 2030 New Hope Rd\n",
      "Kroger 4400 Lebanon Rd\n",
      "Dollar General 316 Highway 70\n",
      "Kroger 5771 Nolensville Road\n",
      "Kroger Fuel Center 150 McGavock Pike\n",
      "Walmart Supercenter 3600 Mallory Ln\n",
      "Nourish Christian Marketplace 846 Conference Dr\n",
      "Sombouns Asian Market 1722 S Rutherford Blvd\n",
      "Indian-Mart 707 Rivergate Pkwy\n",
      "Quick Stop Mercado 760 E North Field Bivd\n",
      "Los Primos 1203 Murfreesboro Rd\n",
      "Walmart Supercenter 2000 Old Fort Pkwy\n",
      "Stop & Shop 5100 Indiana Ave\n",
      "Lewis Market None\n",
      "Nashville Delivers 6591 Bluff Rd\n",
      "ALDI 1701 Mallory Ln\n",
      "Barnes Produce 900 Rosa L Parks Blvd\n",
      "Twice Daily 222 W New Hwy 96\n",
      "ALDI 135 S Gallatin Pike\n",
      "Kroger 1776 W Northfield Blvd\n",
      "Kroger 4120 N Mount Juliet Rd\n",
      "Publix 3415 Memorial Blvd\n",
      "Walmart Supercenter 2012 Memorial Blvd\n",
      "Dollar General 1118 Dickerson Pike\n",
      "Community Markets 336 E Trinity Ln\n",
      "Kroger 1950 Madison Square Blvd\n",
      "El Camino Market 5911 Morrow Rd\n",
      "Smith's Neighborhood Supermarket 5154 Murfreesboro Rd\n",
      "Super Latina Market 14911 Old Hickory Blvd\n",
      "Kroger 4400 Lebanon Pike\n",
      "Kroger 1010 Glenbrook Way\n",
      "Bach Thao Market 3747 Annex Ave\n",
      "Kroger 595 Hillsboro Rd\n",
      "ALDI 407 S Lowry St\n",
      "Save A Lot 1134 Gallatin Pike S\n",
      "ALDI 640 Robert Rose Dr\n",
      "Walmart Supercenter 3035 Hamilton Church Rd\n",
      "Publix 4175 Franklin Rd\n",
      "Leone Star African Market 459 Bell Rd\n",
      "ALDI 3267 Memorial Blvd\n",
      "Two Way Stop 7207 Nolensville Rd\n",
      "Natchez Trace Market 8456 Hwy 100\n",
      "Smiley's Market 5532 Clarksville Pike\n",
      "Dollar General 7200 Whites Creek Pike\n",
      "ALDI 7117 Southpoint Pkwy\n",
      "Cook's Star Market 3010 Stewarts Ferry Pike\n",
      "ALDI 217 Indian Lake Blvd\n",
      "Mi Favorita Supermercado 6317 Charlotte Pike\n",
      "Dollar General 7210 Nolensville Rd\n",
      "Gladeville Smoke Shop 8702 Stewarts Ferry Pike\n",
      "Dollar General 5310 Leanna Road\n",
      "DG Market + pOpshelf 4491 Lebanon Pike\n",
      "Dollar General 1213 Dickerson Rd\n",
      "Jamison Market 1974 Wilson Pike\n",
      "Walmart Supercenter 4424 Lebanon Pike\n",
      "Jr's Foodland 323 E Main St\n",
      "Drew's Market 998 Davidson Dr\n",
      "Dollar General 5501 Clarksville Pike\n",
      "Teter's Market 3505 River Rd\n",
      "Dollar General 3852 Dickerson Pike\n",
      "Dollar General 601 Gallatin Ave\n",
      "Chip's Quik Stop 7250 Whites Creek Pike\n",
      "Dollar General 1898 Almaville Rd\n",
      "Save A Lot 5154 Murfreesboro Rd\n",
      "Larro's Market 415 Old Nashville Hwy\n"
     ]
    },
    {
     "name": "stdout",
     "output_type": "stream",
     "text": [
      "Ibex Minimart 455 Bell Rd\n",
      "Gordon Food Service GFS 95 Seaboard Ln\n",
      "Fairview Stop & Save Market 2655 Fairview Blvd\n",
      "Al Sanabil Bakery & Market 18 E Thompson Ln\n",
      "Oriental Food Market 520 S Church St\n",
      "Dollar General 3776 Nolensville Rd\n",
      "Walmart Neighborhood Market 2478 New Salem Hwy\n",
      "Kroger 2325 Memorial Blvd\n",
      "DG Market 2259 Highway 41 S\n",
      "The Grill at Green Hills - Whole Foods Grill 4021 Hillsboro Pike\n",
      "49 Market 4220 Highway 49 W\n",
      "Old Hwy Market \n",
      "Kroger \n",
      "Cedar Creek Market 2300 Nonaville Rd\n",
      "Rapid Pak 4810 Murfreesboro Rd\n",
      "Food Lion 564 Nissan Dr\n",
      "Dollar General 6009 Charlotte Pike\n",
      "Publix Super Markets 11207 Lebanon Rd\n",
      "Trading Post Market 10412 Old Nashville Hwy\n",
      "Rollins Drive-In Market & Storage 1200 Old Hickory Blvd\n",
      "Super Suppers 1031 Riverside Dr\n",
      "Dollar General Market 301 E Thompson Ln\n",
      "Lanexang Oriental Market 212 Thompson Ln\n",
      "Sphinx Restaurant & Discount Tobacco Market 1094 Murfreesboro Pike\n",
      "Publix Pharmacy 2020 Fieldstone Pkwy\n",
      "Laolanexang  Oriental Enterprises 2861 Logan St\n",
      "Dollar General 1461 Bell Rd\n",
      "Dollar General 7107 Highway 70 S\n",
      "Best Stop 3420 Lebanon Pike\n",
      "Publix 211 Maharris Dr\n",
      "Kwik Mart 230 Thompson Ln\n",
      "Las-Americas Market 4715 Nolensville Pike\n",
      "Dollar General 2174 Gallatin Pike N\n",
      "Super Mercado Latina 4539 Nolensville Pike\n",
      "Mekong Market 949 Richards Rd\n",
      "Dollar General 7605 Hwy. 41A\n",
      "Dollar General 2403 Lebanon Pike\n",
      "Kwik Sak 520 Waldron Rd\n",
      "Dollar General 7507 Old Clarksville Pike\n",
      "Mercados Marias 264 Heritage Park Dr\n",
      "Richard & Betty Reed Produce Market 342 4th Ave N\n",
      "Dollar General 298 Sam Ridley Pkwy E\n",
      "BJ's Wholesale Club 181 Adams Ln\n",
      "Associated Wholesale Grocers 500 S Cartwright St\n",
      "40th Avenue Market 925 40th Ave N\n",
      "Mi Placita Mexican Grocery 1225 Columbia Ave\n",
      "Dollar General 415 West Trinity Ln\n",
      "El Parasio Supermercado Y Carniceria 301 Gallatin Pike S\n",
      "Walmart Supercenter 2012 Memorial Blvd\n",
      "Mapco Express 3200 1302 Neelys Bend Rd\n",
      "Dollar General 2724 Murfreesboro Pike\n",
      "Kroger 250 Williamson Sq\n",
      "Inglewood Drive-In Market 3212 Gallatin Pike\n",
      "Carniceria Dominguez 2569 Murfreesboro Pike\n",
      "L & E Market 606 Millwood Dr\n",
      "Dollar General 3926 Lebanon Pike\n",
      "Dollar General 1010 Sams Creek Rd\n",
      "NW Broad Shell 2125 NW Broad St\n",
      "Dollar General 3288 S Mount Juliet Rd\n",
      "Dollar General 670 Stones River Rd\n",
      "Bread Box Food Store # 131 100 Nokes Dr\n",
      "Dollar General 227 Cason Ln\n",
      "Dollar General 3006 Gallatin Pike\n",
      "Dollar General 120 W. Kingston Springs Rd\n",
      "Dollar General 315 N Main St\n",
      "Dollar General 8702 Stewarts Ferry Pike #101\n",
      "Dollar General 280 Nonaville Rd\n",
      "Dollar General 5152 Murfreesboro Rd\n",
      "Dollar General 211 W Main St\n",
      "Huff's Grocery \n",
      "ALDI 5109 Franklin Rd\n",
      "Dollar General 1229 N Mount Juliet Rd\n",
      "Dollar General 311 Martingale Dr\n",
      "Dollar General Market 287 New Shackle Island Rd\n",
      "Dollar General 352 W Northfield Blvd\n",
      "Dollar General 2011 Se Broad St\n",
      "Dollar General 635 Medical Center Parkway\n",
      "Food Lion 250 Country Village Dr\n",
      "Dollar General 2391 Fairview Blvd\n",
      "Dollar General 595 Hillsboro Rd\n",
      "Save A Lot 750 Jessica St\n",
      "Dollar General 14048 Old Nashville Hwy\n",
      "Burnett's Marathon 1279 Jackson Felts Rd\n",
      "Jingo Market 2431 Fairview Blvd\n",
      "Curtis Cross Roads Market 150 Curtis Crossroads\n",
      "Stop N Buy 240 Sanders Ferry Rd\n",
      "Mapco Express 3308 1311 Murfreesboro Rd\n",
      "Bp Oil 1320 Memorial Blvd\n"
     ]
    }
   ],
   "source": [
    "import requests\n",
    "\n",
    "api_key = '26BhmZgEVnB1U7Is8zcMYXC82ZxiTLRV-Qq1IIZenqK-I4-w9FiYQ9zh1FKw9AVAl-vxfvm0YvE3NRcoq-F8gG6ShmktY_oktLc8HoBngTQhP9fXc1fOIxfWOyGCZXYx'\n",
    "location = 'Nashville'\n",
    "\n",
    "# Set up the API request URL\n",
    "url = 'https://api.yelp.com/v3/businesses/search'\n",
    "headers = {\n",
    "    'Authorization': f'Bearer {api_key}',\n",
    "}\n",
    "params = {\n",
    "    'term': 'grocery store',\n",
    "    'location': location,\n",
    "    'categories': 'grocery',\n",
    "}\n",
    "\n",
    "# Initialize variables for pagination\n",
    "offset = 0\n",
    "total_results = float('inf')  # Set to a very large number initially\n",
    "\n",
    "# Continue fetching results until all results are retrieved\n",
    "while offset < total_results:\n",
    "    # Update the offset parameter\n",
    "    params['offset'] = offset\n",
    "\n",
    "    # Make the request\n",
    "    response = requests.get(url, headers=headers, params=params)\n",
    "    data = response.json()\n",
    "\n",
    "    # Process the response data\n",
    "    if 'businesses' in data:\n",
    "        for business in data['businesses']:\n",
    "            print(business['name'], business['location']['address1'])\n",
    "    else:\n",
    "        print('No results found')\n",
    "\n",
    "    # Update the offset for the next iteration\n",
    "    offset += len(data.get('businesses', []))\n",
    "\n",
    "    # Update the total_results variable\n",
    "    total_results = data.get('total', 0)\n"
   ]
  },
  {
   "cell_type": "code",
   "execution_count": 8,
   "id": "aac8b87b",
   "metadata": {},
   "outputs": [
    {
     "name": "stdout",
     "output_type": "stream",
     "text": [
      "Requirement already satisfied: requests in /anaconda3/envs/myenv/lib/python3.8/site-packages (2.31.0)\n",
      "Collecting plotly\n",
      "  Obtaining dependency information for plotly from https://files.pythonhosted.org/packages/a8/07/72953cf70e3bd3a24cbc3e743e6f8539abe6e3e6d83c3c0c83426eaffd39/plotly-5.18.0-py3-none-any.whl.metadata\n",
      "  Downloading plotly-5.18.0-py3-none-any.whl.metadata (7.0 kB)\n",
      "Requirement already satisfied: pandas in /anaconda3/envs/myenv/lib/python3.8/site-packages (2.0.3)\n",
      "Requirement already satisfied: charset-normalizer<4,>=2 in /anaconda3/envs/myenv/lib/python3.8/site-packages (from requests) (2.0.4)\n",
      "Requirement already satisfied: idna<4,>=2.5 in /anaconda3/envs/myenv/lib/python3.8/site-packages (from requests) (3.4)\n",
      "Requirement already satisfied: urllib3<3,>=1.21.1 in /anaconda3/envs/myenv/lib/python3.8/site-packages (from requests) (1.26.16)\n",
      "Requirement already satisfied: certifi>=2017.4.17 in /anaconda3/envs/myenv/lib/python3.8/site-packages (from requests) (2023.7.22)\n",
      "Collecting tenacity>=6.2.0 (from plotly)\n",
      "  Obtaining dependency information for tenacity>=6.2.0 from https://files.pythonhosted.org/packages/f4/f1/990741d5bb2487d529d20a433210ffa136a367751e454214013b441c4575/tenacity-8.2.3-py3-none-any.whl.metadata\n",
      "  Downloading tenacity-8.2.3-py3-none-any.whl.metadata (1.0 kB)\n",
      "Requirement already satisfied: packaging in /anaconda3/envs/myenv/lib/python3.8/site-packages (from plotly) (23.1)\n",
      "Requirement already satisfied: python-dateutil>=2.8.2 in /anaconda3/envs/myenv/lib/python3.8/site-packages (from pandas) (2.8.2)\n",
      "Requirement already satisfied: pytz>=2020.1 in /anaconda3/envs/myenv/lib/python3.8/site-packages (from pandas) (2023.3.post1)\n",
      "Requirement already satisfied: tzdata>=2022.1 in /anaconda3/envs/myenv/lib/python3.8/site-packages (from pandas) (2023.3)\n",
      "Requirement already satisfied: numpy>=1.20.3 in /anaconda3/envs/myenv/lib/python3.8/site-packages (from pandas) (1.24.3)\n",
      "Requirement already satisfied: six>=1.5 in /anaconda3/envs/myenv/lib/python3.8/site-packages (from python-dateutil>=2.8.2->pandas) (1.16.0)\n",
      "Downloading plotly-5.18.0-py3-none-any.whl (15.6 MB)\n",
      "\u001b[2K   \u001b[90m━━━━━━━━━━━━━━━━━━━━━━━━━━━━━━━━━━━━━━━━\u001b[0m \u001b[32m15.6/15.6 MB\u001b[0m \u001b[31m4.5 MB/s\u001b[0m eta \u001b[36m0:00:00\u001b[0m00:01\u001b[0m00:01\u001b[0m\n",
      "\u001b[?25hDownloading tenacity-8.2.3-py3-none-any.whl (24 kB)\n",
      "Installing collected packages: tenacity, plotly\n",
      "Successfully installed plotly-5.18.0 tenacity-8.2.3\n",
      "Note: you may need to restart the kernel to use updated packages.\n"
     ]
    }
   ],
   "source": [
    "pip install requests plotly pandas\n"
   ]
  },
  {
   "cell_type": "code",
   "execution_count": 17,
   "id": "25fd7f82",
   "metadata": {},
   "outputs": [
    {
     "data": {
      "application/vnd.plotly.v1+json": {
       "config": {
        "plotlyServerURL": "https://plot.ly"
       },
       "data": [
        {
         "customdata": [
          [
           "1010 Dr Martin L King Jr Blvd"
          ],
          [
           "4324 Harding Pike"
          ],
          [
           "1202 Broadway"
          ],
          [
           "2223 8th Ave S"
          ],
          [
           "2324 Lebanon Pike"
          ],
          [
           "3909 Hillsboro Pike"
          ],
          [
           "1202 Broadway"
          ],
          [
           "2201 21st Ave. S"
          ],
          [
           "150 3rd Ave S"
          ],
          [
           "235 Franklin Road"
          ],
          [
           "2615 Franklin Pike"
          ],
          [
           "800 Monroe St"
          ],
          [
           "2421 Powell Ave"
          ],
          [
           "2131 Abbott Martin Rd"
          ],
          [
           "321 12th Ave S"
          ],
          [
           "2284 Murfreesboro Pike"
          ],
          [
           "420 Harding Pl"
          ],
          [
           "2317 Dickerson Pike"
          ],
          [
           "8028 Highway 100"
          ],
          [
           "2414 Gallatin Ave"
          ],
          [
           "2116 8th Ave S"
          ],
          [
           "5529 Clarksville Pike"
          ],
          [
           "1431 Dickerson Pike"
          ],
          [
           "7620 Highway 70 S"
          ],
          [
           "101 Creekside Crossing"
          ],
          [
           "615 Gallatin Ave"
          ],
          [
           "4000 Murphy Rd"
          ],
          [
           "1111 Gallatin Ave"
          ],
          [
           "143 Mcgavock Pike"
          ],
          [
           "4021 Hillsboro Pike"
          ],
          [
           "800 Madison Sq"
          ],
          [
           "6614 Charlotte Pike"
          ],
          [
           "415 Church St"
          ],
          [
           "5500 Centennial Blvd"
          ],
          [
           "701 Woodland St"
          ],
          [
           "2800 Opryland Dr"
          ],
          [
           "3410 Gallatin Pike"
          ],
          [
           "305 Independence Square"
          ],
          [
           "61 E thompson Ln"
          ],
          [
           "5531 Edmondson Pike"
          ],
          [
           "3116 Belmont Blvd"
          ],
          [
           "2617 Nolensville Pike"
          ],
          [
           "3758 Nolensville Pike"
          ],
          [
           "1566 W McEwen Dr"
          ],
          [
           "5107 Harding Pike"
          ],
          [
           "90 White Bridge Rd"
          ],
          [
           "15544 Old Hickory Blvd"
          ],
          [
           "210 Franklin Rd."
          ],
          [
           "4702 Gallatin Pike"
          ],
          [
           "4560 Harding Pike"
          ],
          [
           "3410 Gallatin Pike"
          ],
          [
           "545 Cool Springs Blvd"
          ],
          [
           "2232 Gallatin Pike N"
          ],
          [
           "3636 Bell Rd"
          ],
          [
           "460 Long Hollow Pike"
          ],
          [
           "4647 Nolensville Pike"
          ],
          [
           "665 S Mount Juliet Rd"
          ],
          [
           "7087 Highway 70 S"
          ],
          [
           "5705 Charlotte Pike"
          ],
          [
           "3458 Dickerson Pike"
          ],
          [
           "614 Garfield St"
          ],
          [
           "1439 Robinson Rd"
          ],
          [
           "7014 City Center Way"
          ],
          [
           "1401 Fatherland St"
          ],
          [
           "2808 Old Smith Springs Rd"
          ],
          [
           "117 SE Broad St"
          ],
          [
           "3566 Murfreesboro Pike"
          ],
          [
           "401 S Mount Juliet Rd"
          ],
          [
           "2498 Highway 49 E"
          ],
          [
           "3930 N Mount Juliet Rd"
          ],
          [
           "3900 Charlotte Ave"
          ],
          [
           "204 N Anderson Ln"
          ],
          [
           "501 Gallatin Ave"
          ],
          [
           "8105 Moores Ln"
          ],
          [
           "5515 Edmondson Pike"
          ],
          [
           "2449 Old Fort Pkwy"
          ],
          [
           "5544 Old Hickory Blvd"
          ],
          [
           "2020 Fieldstone Pkwy"
          ],
          [
           "405 American Rd"
          ],
          [
           "1010 Murfreesboro Rd"
          ],
          [
           "702 28th Ave N"
          ],
          [
           "200 W Broadway"
          ],
          [
           "134 W Kingston Springs Rd"
          ],
          [
           "10638 Concord Rd"
          ],
          [
           "465 N Thompson Ln"
          ],
          [
           "1510 Branch St"
          ],
          [
           "110 Indian Lake Blvd"
          ],
          [
           "3302 Nolensville Pike"
          ],
          [
           "1153 Fortress Blvd"
          ],
          [
           "7044 Charlotte Pike"
          ],
          [
           "5301 Granny White Pike"
          ],
          [
           "1911 Ransom Pl"
          ],
          [
           "5319 Mount View Rd"
          ],
          [
           "5713 Edmondson Pike"
          ],
          [
           "317 Bluebird"
          ],
          [
           "405 American Rd"
          ],
          [
           "109 Gallatin Pike N"
          ],
          [
           "570 Enon Springs Rd E"
          ],
          [
           "4670 Lebanon Pike"
          ],
          [
           "12217 Lebanon Rd"
          ],
          [
           "859 Briley Pkwy"
          ],
          [
           "11207 Lebanon Rd"
          ],
          [
           "200 Gallatin Pike S"
          ],
          [
           "661 President Pl"
          ],
          [
           "5511 Murfreesboro Rd"
          ],
          [
           "1483 Nashville Pike"
          ],
          [
           "123 Northcreek Blvd"
          ],
          [
           "5312 Cane Ridge Rd"
          ],
          [
           "1640 Lee Victory Pkwy"
          ],
          [
           "310 17th Ave N"
          ],
          [
           "621 Hwy 76"
          ],
          [
           "2704 Nolensville Pike"
          ],
          [
           "826 Main St"
          ],
          [
           "614 Garfield St"
          ],
          [
           "936 Richards Rd"
          ],
          [
           "1021 Riverside Dr"
          ],
          [
           "213 West Main St"
          ],
          [
           "1731 S Rutherford Blvd"
          ],
          [
           "1313 51st Ave N"
          ],
          [
           "5145 Murfreesboro Rd"
          ],
          [
           "8141 State Highway 100"
          ],
          [
           "471 E Main St"
          ],
          [
           "438 Highway 70"
          ],
          [
           "795 South Main St"
          ],
          [
           "1107 Memorial Blvd 107"
          ],
          [
           "845 Nashville Pike"
          ],
          [
           "143 Wendelwood Dr"
          ],
          [
           "6690 Nolensville Rd"
          ],
          [
           "463 Sam Ridley Pkwy W"
          ],
          [
           "1931 Long Hollow Pike"
          ],
          [
           "300 Pleasant Grove Rd"
          ],
          [
           "1113 Murfreesboro Pike"
          ],
          [
           "445 Hwy 109 N"
          ],
          [
           "4040 Nolensville Pike"
          ],
          [
           "1626 Highway 12 S"
          ],
          [
           "1535 Columbia Ave"
          ],
          [
           "7035 Highway 70 S"
          ],
          [
           "2402 Dickerson Pike"
          ],
          [
           "1104 Murfreesboro Pike"
          ],
          [
           "7100 Hopgood Rd"
          ],
          [
           "1112 Nashville Pike"
          ],
          [
           "240 Ren Mar Dr"
          ],
          [
           "5824 Nolensville Pike"
          ],
          [
           "4751 Lebanon Pike"
          ],
          [
           "600 Rivergate Pkwy"
          ],
          [
           "2011 Nashville Pike"
          ],
          [
           "315 N Mt Juliet Rd"
          ],
          [
           "1800 Elm Hill Pike"
          ],
          [
           "5021 Hughes Crossing"
          ],
          [
           "2127 US Hwy 41"
          ],
          [
           "2650 St Andrews Dr"
          ],
          [
           "4432 Veterans Pkwy"
          ],
          [
           "237 E Main St"
          ],
          [
           "342 4th Ave N"
          ],
          [
           "1905 Meridian St"
          ],
          [
           "1400 Liberty Pike"
          ],
          [
           "4977 Florence Rd"
          ],
          [
           "1203 Murfreesboro Road"
          ],
          [
           "5445 Nolensville Rd"
          ],
          [
           "209 S Royal Oaks Blvd"
          ],
          [
           "3710 Annex Ave"
          ],
          [
           "314 Frey St"
          ],
          [
           "411 Whitman Road"
          ],
          [
           "5452 Carters Creek Pike"
          ],
          [
           "3922 Lebanon Pike"
          ],
          [
           "7586 Almaville Rd"
          ],
          [
           "4778 Peytonsville Rd"
          ],
          [
           "8993 Hwy 100"
          ],
          [
           "3815 Nolensville Pike"
          ],
          [
           "2907 Highway 31 W"
          ],
          [
           "2830 Gallatin Pike"
          ],
          [
           "3054 Columbia Ave"
          ],
          [
           "330 Mayfield Dr"
          ],
          [
           "11459 Old Nashville Hwy"
          ],
          [
           "571 Village Green Dr"
          ],
          [
           "2030 New Hope Rd"
          ],
          [
           "4400 Lebanon Rd"
          ],
          [
           "316 Highway 70"
          ],
          [
           "5771 Nolensville Road"
          ],
          [
           "150 McGavock Pike"
          ],
          [
           "150 McGavock Pike"
          ],
          [
           "846 Conference Dr"
          ],
          [
           "1722 S Rutherford Blvd"
          ],
          [
           "760 E North Field Bivd"
          ],
          [
           "707 Rivergate Pkwy"
          ],
          [
           "2000 Old Fort Pkwy"
          ],
          [
           "1203 Murfreesboro Rd"
          ],
          [
           "5100 Indiana Ave"
          ],
          [
           "6591 Bluff Rd"
          ],
          [
           null
          ],
          [
           "1701 Mallory Ln"
          ],
          [
           "222 W New Hwy 96"
          ],
          [
           "900 Rosa L Parks Blvd"
          ],
          [
           "135 S Gallatin Pike"
          ],
          [
           "1776 W Northfield Blvd"
          ],
          [
           "4120 N Mount Juliet Rd"
          ],
          [
           "3415 Memorial Blvd"
          ],
          [
           "2012 Memorial Blvd"
          ],
          [
           "336 E Trinity Ln"
          ],
          [
           "1118 Dickerson Pike"
          ],
          [
           "5911 Morrow Rd"
          ],
          [
           "14911 Old Hickory Blvd"
          ],
          [
           "1950 Madison Square Blvd"
          ],
          [
           "5154 Murfreesboro Rd"
          ],
          [
           "3747 Annex Ave"
          ],
          [
           "4400 Lebanon Pike"
          ],
          [
           "1010 Glenbrook Way"
          ],
          [
           "595 Hillsboro Rd"
          ],
          [
           "407 S Lowry St"
          ],
          [
           "640 Robert Rose Dr"
          ],
          [
           "1134 Gallatin Pike S"
          ],
          [
           "3035 Hamilton Church Rd"
          ],
          [
           "4175 Franklin Rd"
          ],
          [
           "459 Bell Rd"
          ],
          [
           "3267 Memorial Blvd"
          ],
          [
           "7207 Nolensville Rd"
          ],
          [
           "7200 Whites Creek Pike"
          ],
          [
           "5532 Clarksville Pike"
          ],
          [
           "8456 Hwy 100"
          ],
          [
           "7117 Southpoint Pkwy"
          ],
          [
           "3010 Stewarts Ferry Pike"
          ],
          [
           "217 Indian Lake Blvd"
          ],
          [
           "6317 Charlotte Pike"
          ],
          [
           "7210 Nolensville Rd"
          ],
          [
           "5310 Leanna Road"
          ],
          [
           "8702 Stewarts Ferry Pike"
          ],
          [
           "1213 Dickerson Rd"
          ],
          [
           "4491 Lebanon Pike"
          ],
          [
           "1974 Wilson Pike"
          ],
          [
           "4424 Lebanon Pike"
          ],
          [
           "323 E Main St"
          ],
          [
           "5501 Clarksville Pike"
          ],
          [
           "998 Davidson Dr"
          ],
          [
           "601 Gallatin Ave"
          ],
          [
           "3505 River Rd"
          ],
          [
           "3852 Dickerson Pike"
          ],
          [
           "7250 Whites Creek Pike"
          ],
          [
           "5154 Murfreesboro Rd"
          ],
          [
           "1898 Almaville Rd"
          ],
          [
           "415 Old Nashville Hwy"
          ],
          [
           "455 Bell Rd"
          ],
          [
           "95 Seaboard Ln"
          ],
          [
           "2655 Fairview Blvd"
          ],
          [
           "18 E Thompson Ln"
          ],
          [
           "520 S Church St"
          ],
          [
           "3776 Nolensville Rd"
          ],
          [
           "2478 New Salem Hwy"
          ],
          [
           "2325 Memorial Blvd"
          ],
          [
           "2259 Highway 41 S"
          ],
          [
           "4021 Hillsboro Pike"
          ],
          [
           "4220 Highway 49 W"
          ],
          [
           ""
          ],
          [
           ""
          ],
          [
           "2300 Nonaville Rd"
          ],
          [
           "4810 Murfreesboro Rd"
          ],
          [
           "564 Nissan Dr"
          ],
          [
           "6009 Charlotte Pike"
          ],
          [
           "11207 Lebanon Rd"
          ],
          [
           "10412 Old Nashville Hwy"
          ],
          [
           "1031 Riverside Dr"
          ],
          [
           "1200 Old Hickory Blvd"
          ],
          [
           "301 E Thompson Ln"
          ],
          [
           "212 Thompson Ln"
          ],
          [
           "1094 Murfreesboro Pike"
          ],
          [
           "2020 Fieldstone Pkwy"
          ],
          [
           "2861 Logan St"
          ],
          [
           "1461 Bell Rd"
          ],
          [
           "7107 Highway 70 S"
          ],
          [
           "3420 Lebanon Pike"
          ],
          [
           "211 Maharris Dr"
          ],
          [
           "230 Thompson Ln"
          ],
          [
           "4715 Nolensville Pike"
          ],
          [
           "2174 Gallatin Pike N"
          ],
          [
           "4539 Nolensville Pike"
          ],
          [
           "949 Richards Rd"
          ],
          [
           "7605 Hwy. 41A"
          ],
          [
           "2403 Lebanon Pike"
          ],
          [
           "520 Waldron Rd"
          ],
          [
           "7507 Old Clarksville Pike"
          ],
          [
           "264 Heritage Park Dr"
          ],
          [
           "342 4th Ave N"
          ],
          [
           "298 Sam Ridley Pkwy E"
          ],
          [
           "181 Adams Ln"
          ],
          [
           "500 S Cartwright St"
          ],
          [
           "925 40th Ave N"
          ],
          [
           "1225 Columbia Ave"
          ],
          [
           "415 West Trinity Ln"
          ],
          [
           "301 Gallatin Pike S"
          ],
          [
           "2012 Memorial Blvd"
          ],
          [
           "1302 Neelys Bend Rd"
          ],
          [
           "2724 Murfreesboro Pike"
          ],
          [
           "250 Williamson Sq"
          ],
          [
           "3212 Gallatin Pike"
          ],
          [
           "2569 Murfreesboro Pike"
          ],
          [
           "606 Millwood Dr"
          ],
          [
           "3926 Lebanon Pike"
          ],
          [
           "1010 Sams Creek Rd"
          ],
          [
           "2125 NW Broad St"
          ],
          [
           "3288 S Mount Juliet Rd"
          ],
          [
           "670 Stones River Rd"
          ],
          [
           "100 Nokes Dr"
          ],
          [
           "227 Cason Ln"
          ],
          [
           "3006 Gallatin Pike"
          ],
          [
           "120 W. Kingston Springs Rd"
          ],
          [
           "315 N Main St"
          ],
          [
           "8702 Stewarts Ferry Pike #101"
          ],
          [
           "280 Nonaville Rd"
          ],
          [
           "5152 Murfreesboro Rd"
          ],
          [
           "211 W Main St"
          ],
          [
           ""
          ],
          [
           "5109 Franklin Rd"
          ],
          [
           "1229 N Mount Juliet Rd"
          ],
          [
           "311 Martingale Dr"
          ],
          [
           "287 New Shackle Island Rd"
          ],
          [
           "352 W Northfield Blvd"
          ],
          [
           "2011 Se Broad St"
          ],
          [
           "635 Medical Center Parkway"
          ],
          [
           "250 Country Village Dr"
          ],
          [
           "2391 Fairview Blvd"
          ],
          [
           "595 Hillsboro Rd"
          ],
          [
           "750 Jessica St"
          ],
          [
           "14048 Old Nashville Hwy"
          ],
          [
           "1279 Jackson Felts Rd"
          ],
          [
           "2431 Fairview Blvd"
          ],
          [
           "150 Curtis Crossroads"
          ],
          [
           "240 Sanders Ferry Rd"
          ],
          [
           "1311 Murfreesboro Rd"
          ],
          [
           "1320 Memorial Blvd"
          ]
         ],
         "hovertemplate": "<b>%{hovertext}</b><br><br>Size=%{marker.size}<br>Name=%{text}<br>Latitude=%{lat}<br>Longitude=%{lon}<br>Address=%{customdata[0]}<extra></extra>",
         "hovertext": [
          "Publix Supermarket",
          "Publix",
          "Whole Foods - Broadway",
          "Publix",
          "Publix",
          "Trader Joe's",
          "Whole Foods Market",
          "Kroger",
          "Southernaire Market",
          "The Fresh Market",
          "Kroger",
          "Kroger",
          "Walmart Supercenter",
          "Kroger",
          "The Turnip Truck - Gulch",
          "Kroger",
          "Patel Brothers",
          "Piggly Wiggly",
          "Publix Super Markets",
          "The BE Hive",
          "Smokin Oaks Organic Farms Market",
          "Tony's Food Land",
          "Uptown Fruit Market ",
          "Sprouts Farmers Market",
          "Publix Super Markets",
          "ALDI",
          "The Produce Place",
          "Publix",
          "Kroger",
          "Whole Foods Market",
          "Garden Fresh Food Market",
          "Publix Super Market- Nashville",
          "Savi Urban Market",
          "Silo Market",
          "The Turnip Truck - East Nashville",
          "Delta Marketplace",
          "Kroger",
          "Kroger",
          "Kroger",
          "Walmart Neighborhood Market",
          "Osborne's Bi-Rite",
          "La Hacienda Market & Bakery",
          "ALDI",
          "Whole Foods Market",
          "Sperry's Mercantile",
          "Trader Joe's",
          "Publix Super Markets",
          "Kroger",
          "Madison Inglewood Market",
          "Kroger",
          "Kroger",
          "Trader Joe's",
          "Walmart Supercenter",
          "Food Lion",
          "Publix Super Markets",
          "Sulav International Market",
          "Publix",
          "Kroger",
          "Kroger",
          "Walmart Supercenter",
          "The LoCal Distro",
          "Piggly Wiggly",
          "Publix at Bowie Commons",
          "4 Way Market",
          "Compton's Foodland",
          "United Grocery Outlet",
          "Publix Super Markets",
          "Kroger",
          "H.G. Hill Food Store",
          "Houston Meat & Produce",
          "Rosie's Market",
          "Walmart Supercenter",
          "Porter Road Butcher",
          "Publix Super Markets",
          "Soberdough",
          "Kroger",
          "Kroger",
          "Publix Supermarkets",
          "ALDI",
          "Sprouts Farmers Market",
          "Swetts Market",
          "H.G. Hill Market",
          "Lawrence Foods",
          "Publix Super Markets",
          "GFS Gordon Food Service",
          "Dollar General",
          "Publix Super Markets",
          "Osborne Bi-Rite",
          "Walmart Neighborhood Market",
          "Walmart Supercenter",
          "Granny White Market",
          "ALDI",
          "Kroger",
          "Kroger",
          "GFS Marketplace",
          "ALDI",
          "Walmart Neighborhood Market",
          "Walmart Supercenter",
          "Publix Super Markets",
          "Rice’s Country Hams",
          "Chico's Market",
          "Publix Super Markets",
          "Kroger",
          "Publix Super Markets",
          "Walmart Supercenter",
          "Publix Super Markets",
          "Kroger",
          "Supermarket Foodtown",
          "Publix Super Markets",
          "Lee's Market",
          "Los Altos Market",
          "Supermercado y Carniceria La Vaquita",
          "Weiss Drive-In Market",
          "Community Market",
          "Food Lion",
          "Publix",
          "Cash Saver",
          "Publix Super Markets",
          "Laverte's Market",
          "Kroger",
          "Kroger",
          "Food Lion",
          "Finch's Country Store",
          "Cash Saver",
          "Alrayan Market & Restaurant",
          "Kroger",
          "Sprouts Farmers Market",
          "Kroger",
          "Kroger",
          "Publix Super Market at Newman's Crossing",
          "Walmart Supercenter",
          "Save A Lot",
          "Publix - Lebanon",
          "Walmart Supercenter",
          "Walmart Supercenter",
          "Tim's Market",
          "ALDI",
          "Garibaldi Market",
          "A & H Mart",
          "Walmart Supercenter",
          "Walmart Supercenter",
          "DG Market + pOpshelf",
          "Walmart Supercenter",
          "ALDI",
          "Cantrell Market",
          "Kroger Marketplace",
          "ALDI",
          "Merchant's Mart",
          "Publix Super Markets",
          "Crossroads IGA",
          "Publix",
          "Kroger",
          "Kroger",
          "Reed's Produce & Garden Center",
          "Trinity Lane Market",
          "Publix Super Markets",
          "Dollar General",
          "Kroger",
          "DG Market + pOpshelf",
          "ALDI",
          "Publix",
          "Food Lion Inc Store Nbr 693",
          "Kroger",
          "Huff's Grocery & Deli",
          "Mexicali Market",
          "Almaville Market",
          "Glenn's Grocery",
          "Highway 100 Market & Deli",
          "Elysian Market",
          "DG Market + pOpshelf",
          "Litton's Corner Market",
          "Kroger",
          "India Bazaar",
          "Food Lion",
          "ALDI",
          "Worsham's Store",
          "Kroger",
          "Dollar General",
          "Kroger",
          "Kroger Fuel Center",
          "Kroger Fuel Center",
          "Nourish Christian Marketplace",
          "Sombouns Asian Market",
          "Quick Stop Mercado",
          "Indian-Mart",
          "Walmart Supercenter",
          "Los Primos",
          "Stop & Shop",
          "Nashville Delivers",
          "Lewis Market",
          "ALDI",
          "Twice Daily",
          "Barnes Produce",
          "ALDI",
          "Kroger",
          "Kroger",
          "Publix",
          "Walmart Supercenter",
          "Community Markets",
          "Dollar General",
          "El Camino Market",
          "Super Latina Market",
          "Kroger",
          "Smith's Neighborhood Supermarket",
          "Bach Thao Market",
          "Kroger",
          "Kroger",
          "Kroger",
          "ALDI",
          "ALDI",
          "Save A Lot",
          "Walmart Supercenter",
          "Publix",
          "Leone Star African Market",
          "ALDI",
          "Two Way Stop",
          "Dollar General",
          "Smiley's Market",
          "Natchez Trace Market",
          "ALDI",
          "Cook's Star Market",
          "ALDI",
          "Mi Favorita Supermercado",
          "Dollar General",
          "Dollar General",
          "Gladeville Smoke Shop",
          "Dollar General",
          "DG Market + pOpshelf",
          "Jamison Market",
          "Walmart Supercenter",
          "Jr's Foodland",
          "Dollar General",
          "Drew's Market",
          "Dollar General",
          "Teter's Market",
          "Dollar General",
          "Chip's Quik Stop",
          "Save A Lot",
          "Dollar General",
          "Larro's Market",
          "Ibex Minimart",
          "Gordon Food Service GFS",
          "Fairview Stop & Save Market",
          "Al Sanabil Bakery & Market",
          "Oriental Food Market",
          "Dollar General",
          "Walmart Neighborhood Market",
          "Kroger",
          "DG Market",
          "The Grill at Green Hills - Whole Foods Grill",
          "49 Market",
          "Old Hwy Market",
          "Kroger",
          "Cedar Creek Market",
          "Rapid Pak",
          "Food Lion",
          "Dollar General",
          "Publix Super Markets",
          "Trading Post Market",
          "Super Suppers",
          "Rollins Drive-In Market & Storage",
          "Dollar General Market",
          "Lanexang Oriental Market",
          "Sphinx Restaurant & Discount Tobacco Market",
          "Publix Pharmacy",
          "Laolanexang  Oriental Enterprises",
          "Dollar General",
          "Dollar General",
          "Best Stop",
          "Publix",
          "Kwik Mart",
          "Las-Americas Market",
          "Dollar General",
          "Super Mercado Latina",
          "Mekong Market",
          "Dollar General",
          "Dollar General",
          "Kwik Sak",
          "Dollar General",
          "Mercados Marias",
          "Richard & Betty Reed Produce Market",
          "Dollar General",
          "BJ's Wholesale Club",
          "Associated Wholesale Grocers",
          "40th Avenue Market",
          "Mi Placita Mexican Grocery",
          "Dollar General",
          "El Parasio Supermercado Y Carniceria",
          "Walmart Supercenter",
          "Mapco Express 3200",
          "Dollar General",
          "Kroger",
          "Inglewood Drive-In Market",
          "Carniceria Dominguez",
          "L & E Market",
          "Dollar General",
          "Dollar General",
          "NW Broad Shell",
          "Dollar General",
          "Dollar General",
          "Bread Box Food Store # 131",
          "Dollar General",
          "Dollar General",
          "Dollar General",
          "Dollar General",
          "Dollar General",
          "Dollar General",
          "Dollar General",
          "Dollar General",
          "Huff's Grocery",
          "ALDI",
          "Dollar General",
          "Dollar General",
          "Dollar General Market",
          "Dollar General",
          "Dollar General",
          "Dollar General",
          "Food Lion",
          "Dollar General",
          "Dollar General",
          "Save A Lot",
          "Dollar General",
          "Burnett's Marathon",
          "Jingo Market",
          "Curtis Cross Roads Market",
          "Stop N Buy",
          "Mapco Express 3308",
          "Bp Oil"
         ],
         "lat": [
          36.163321,
          36.126121,
          36.156768,
          36.12885,
          36.1690184,
          36.1050899,
          36.1563,
          36.130146,
          36.15992236194708,
          36.03118,
          36.11994448925291,
          36.175772,
          36.11097,
          36.10567994636792,
          36.152750480096714,
          36.08844,
          36.0815086,
          36.2077522277832,
          36.0470726898557,
          36.1948866,
          36.13129,
          36.28022,
          36.199885,
          36.07996937,
          36.036936,
          36.18327098081265,
          36.1410399,
          36.1902481,
          36.170583,
          36.103429,
          36.255471,
          36.140221,
          36.16345493302132,
          36.16542,
          36.1738272,
          36.211456857142736,
          36.210153685671415,
          35.931872,
          36.11075,
          36.042188,
          36.1179314,
          36.1161903,
          36.09028738010095,
          35.934445,
          36.10482167,
          36.1307261,
          36.04086,
          36.031936,
          36.2303581237793,
          36.1232988,
          36.210158,
          35.94926555501651,
          36.30846930937958,
          36.1506119,
          36.3314437866211,
          36.068604,
          36.1606784,
          36.07364,
          36.148753,
          36.24436765885677,
          36.18143,
          36.2560844,
          35.9750539809465,
          36.1740112,
          36.08907,
          35.8420144028205,
          36.053478,
          36.164802967639254,
          36.3973282747467,
          36.2250786,
          36.1527519226074,
          36.32278,
          36.1820737,
          35.96355912821722,
          36.0435562133789,
          35.8436773123623,
          36.1817524,
          35.96424,
          36.14513,
          35.91554497,
          36.15903,
          36.3895493,
          36.0873599,
          35.9972687,
          35.8549097925425,
          36.19438735885222,
          36.30975,
          36.101432800293,
          35.867104946826785,
          36.131790594856135,
          36.065186,
          36.0881174,
          36.0494596604985,
          36.039176,
          36.30066,
          36.1449115306,
          36.2639814,
          35.97095,
          36.216472,
          36.2304753810167,
          36.1366234,
          36.2327953182491,
          36.2614937,
          35.9799753570123,
          36.014739,
          36.359651,
          36.3264798,
          36.0431537,
          35.9412804,
          36.15752,
          36.4694503,
          36.1142272949219,
          36.1757126,
          36.1814308,
          36.0689829289913,
          35.912647,
          36.30397,
          35.81308,
          36.16172,
          36.02207,
          36.04343,
          36.39008849462034,
          36.1000633239746,
          36.2808747,
          35.858521,
          36.377945,
          35.8803535,
          36.000358,
          35.98325269504688,
          36.381768192669654,
          36.17878079194063,
          36.1263809,
          36.193386220430625,
          36.08248470608552,
          36.247874,
          35.9084511,
          36.07504161605711,
          36.208619,
          36.1265729,
          35.96302,
          36.37697521974353,
          36.3966293,
          36.04194991416067,
          36.214269173049345,
          36.3126984,
          36.34414,
          36.176167299997445,
          36.146157,
          35.8638154220783,
          36.40973778747504,
          35.8124195681988,
          35.8443888276815,
          36.307621,
          35.9290085,
          36.2054214477539,
          35.9242592,
          35.924518,
          35.91722,
          36.049533,
          35.914398,
          36.1396775430815,
          36.296553,
          35.92894,
          35.81232,
          36.1943588,
          35.8699417,
          35.8166144467151,
          36.02526,
          36.086917,
          36.4616661071777,
          36.2021942138672,
          35.8936615,
          35.9544192209707,
          35.95704,
          36.378184546558984,
          36.3734315798723,
          36.2377777,
          36.096915,
          36.04625,
          36.1711884,
          36.1711884,
          36.31836,
          35.8118286132812,
          35.8680595,
          36.305809,
          35.85006372992209,
          35.917128134853,
          36.1566048,
          36.002397,
          36.054280000000006,
          35.966032,
          35.924268,
          36.1700134,
          36.261669618635054,
          35.871395,
          36.2294127483398,
          35.910708,
          35.878349,
          36.2051,
          36.191566,
          36.16193,
          36.044888836669,
          36.022001,
          36.01959,
          36.1410789489746,
          36.2163549560775,
          36.333502,
          35.9328962,
          35.971588,
          35.854144146069984,
          36.250564,
          36.06098998339757,
          35.842046688483,
          36.0737687,
          35.9045048875605,
          35.96323,
          36.318815,
          36.2808466,
          36.0350177,
          35.995798,
          36.1255188,
          36.321612,
          36.14475,
          35.96382,
          35.93927,
          36.11222,
          36.294444,
          36.2144241333008,
          35.922088,
          36.21649750686617,
          35.8459587097168,
          36.27924,
          36.1272446,
          36.183075,
          36.2041053771973,
          36.2662392,
          36.3209381,
          36.019328,
          35.931056,
          36.0059547424316,
          36.0740623,
          35.965145,
          35.9458885,
          36.115346,
          35.84103,
          36.08849,
          35.814212,
          35.886723,
          36.4421611456996,
          36.103429,
          36.4603691,
          36.42931,
          35.9325940219917,
          36.2623596191406,
          35.8681412,
          35.9850807,
          36.1230634929557,
          36.2310677,
          35.9482,
          35.912423,
          36.2723922729492,
          36.12584875728217,
          36.111283,
          36.1270117,
          35.9644889831543,
          36.1117462,
          36.0451698303223,
          36.0734939575195,
          36.18961,
          36.36471884873463,
          36.11091556905762,
          36.0673294067383,
          36.305611,
          36.0699615,
          36.06956,
          36.442676,
          36.1689491,
          35.9988021850586,
          36.330527,
          35.8731918,
          35.9290085,
          35.996012,
          36.168142,
          36.32100482147509,
          36.161,
          35.9156685,
          36.208705,
          36.2601471,
          35.879093,
          36.2399598,
          36.06932,
          35.9175224,
          36.2069016,
          36.0761183,
          36.129940032959,
          36.1944504,
          36.228577,
          35.8790454043965,
          36.124699,
          36.048396,
          36.2955145,
          35.8430023193359,
          36.2036209,
          36.086863,
          36.3254166,
          36.112218,
          36.2345,
          36.0199586,
          36.3048973,
          35.8171997070312,
          35.843538435641825,
          36.18889,
          36.2572975158691,
          36.320105,
          35.872205,
          35.813408582333686,
          35.855128,
          35.9570313,
          35.962285,
          35.932417626233345,
          35.8335419,
          35.984703,
          36.34624,
          35.9598618,
          36.26102,
          36.28645,
          35.9154243469238,
          35.8614857344653
         ],
         "legendgroup": "",
         "lon": [
          -86.789647,
          -86.8462114,
          -86.788061,
          -86.77845,
          -86.6838698,
          -86.81528,
          -86.7886,
          -86.802482,
          -86.77411835994823,
          -86.791293,
          -86.77717958387726,
          -86.794253,
          -86.76937,
          -86.81844030486614,
          -86.78549830613436,
          -86.64773,
          -86.7276,
          -86.7670364379883,
          -86.9521838676792,
          -86.743203,
          -86.7784,
          -86.8769989,
          -86.769471,
          -86.94907808,
          -86.798796,
          -86.7475518,
          -86.83327,
          -86.7451243,
          -86.678616,
          -86.8190653,
          -86.716399,
          -86.882913,
          -86.77942,
          -86.85413,
          -86.7600285,
          -86.69459006794672,
          -86.73166480317425,
          -86.877315,
          -86.72559,
          -86.745583,
          -86.7966309,
          -86.7480597,
          -86.7323177,
          -86.824652,
          -86.86816833,
          -86.852227,
          -86.74167,
          -86.787412,
          -86.7244033813477,
          -86.8501592,
          -86.732448,
          -86.82177296748878,
          -86.68660317425412,
          -86.6268234,
          -86.6989669799805,
          -86.72039,
          -86.5152176,
          -86.91986,
          -86.860293,
          -86.76291,
          -86.795,
          -86.6541061,
          -87.1293061226606,
          -86.7459793,
          -86.6095481,
          -86.3906949795732,
          -86.614923,
          -86.51197688318322,
          -87.0316640018733,
          -86.5150375,
          -86.8334350585938,
          -86.59537,
          -86.7489769,
          -86.80242175889569,
          -86.7451171875,
          -86.4418971911073,
          -86.604877,
          -86.88286,
          -86.87388,
          -86.83851,
          -86.8182999,
          -86.4506226,
          -87.10489,
          -86.6921082,
          -86.4304377883673,
          -86.7264173116567,
          -86.60486,
          -86.7398452758789,
          -86.46458550976817,
          -86.90750187425482,
          -86.813318,
          -86.65080772479996,
          -86.6473011107809,
          -86.745124,
          -86.70224,
          -86.8735013898284,
          -86.7140176,
          -86.4958,
          -86.592376,
          -86.5310963988304,
          -86.6995087,
          -86.5144087906598,
          -86.7126312,
          -86.5550343984273,
          -86.545588,
          -86.495761,
          -86.698614,
          -86.66123789999999,
          -86.5275269,
          -86.797,
          -86.67243979999999,
          -86.7464141845703,
          -86.7575302,
          -86.7949982,
          -86.6814462840557,
          -86.82904,
          -86.61878,
          -86.36834,
          -86.84944,
          -86.57606,
          -86.95669,
          -86.43608547314167,
          -87.0490417480469,
          -87.0699058,
          -86.39313,
          -86.46546,
          -86.38656583,
          -86.691232,
          -86.55117151908804,
          -86.5510522331778,
          -86.51964694480331,
          -86.7110214,
          -86.40911877480707,
          -86.72560500353205,
          -87.032526,
          -86.8743896,
          -86.91764332944776,
          -86.76775,
          -86.7105886,
          -87.14002,
          -86.47590281534738,
          -87.028717,
          -86.70918017426854,
          -86.59173511349309,
          -86.7065735,
          -86.52595,
          -86.511774,
          -86.706186,
          -86.8430513823787,
          -86.78696971275906,
          -86.4576596573142,
          -86.4931873977184,
          -86.600732,
          -86.8731308,
          -86.7656021118164,
          -86.7955017,
          -86.469585,
          -86.82924,
          -86.715563,
          -86.832833,
          -86.8821284220552,
          -87.0494273,
          -86.9184,
          -86.98352,
          -86.6227417,
          -86.5797806,
          -86.7745850461541,
          -87.00857,
          -86.730796,
          -86.664176940918,
          -86.7387847900391,
          -86.8807068,
          -86.8021074085413,
          -86.51947,
          -86.47454843261858,
          -86.6166607050062,
          -86.3957062,
          -87.044094,
          -86.7135,
          -86.6800995,
          -86.6800995,
          -86.7013,
          -86.3672332763672,
          -86.3740700914704,
          -86.7052765,
          -86.42808597409497,
          -86.8316824043899,
          -86.848999,
          -86.7023814,
          -86.65168514999999,
          -86.814922,
          -86.878711,
          -86.7891159,
          -86.71151432453689,
          -86.415624,
          -86.5149766461526,
          -86.3839249,
          -86.382799,
          -86.76186,
          -86.773177,
          -86.86118,
          -86.7032972096995,
          -86.576123,
          -86.57663,
          -86.8840026855469,
          -86.6039974717355,
          -86.621105,
          -86.8787524,
          -86.507884,
          -86.4322234766314,
          -86.720893,
          -86.62913449233146,
          -86.471893563874,
          -86.6356455,
          -86.3837470748917,
          -86.67682,
          -86.866026,
          -86.8753624,
          -86.97297133005941,
          -86.686932,
          -86.5184937,
          -86.601602,
          -86.87166,
          -86.674614,
          -86.43022,
          -86.421558,
          -86.730768,
          -86.5993423461914,
          -86.766365,
          -86.60079401165669,
          -86.3878479003906,
          -86.8741,
          -86.9031251,
          -86.7485123,
          -86.9914855957031,
          -86.7572937,
          -86.867218,
          -86.576753,
          -86.534716,
          -86.565803527832,
          -86.6355209,
          -86.818542,
          -87.1460419,
          -86.71992,
          -86.39259,
          -86.73172,
          -86.447192,
          -86.384175,
          -86.8115629,
          -86.8190653,
          -86.952858,
          -86.81353,
          -86.788777686469,
          -86.5218734741211,
          -86.7117004,
          -86.4952698,
          -86.9121278720899,
          -86.5137863,
          -86.50754,
          -86.828359,
          -86.7614898681641,
          -86.7138918,
          -86.741288,
          -86.7111418,
          -86.8834075927734,
          -86.7418924,
          -86.687370300293,
          -86.922607421875,
          -86.62854,
          -86.44249202786095,
          -86.7422429099679,
          -86.7190628051758,
          -86.690305,
          -86.7226486,
          -86.68259,
          -87.10281,
          -86.6821442,
          -86.5971374511719,
          -86.960146,
          -86.3908386,
          -86.8731308,
          -86.497829,
          -86.520374,
          -86.70484146113395,
          -86.83639,
          -86.8730774,
          -86.785784,
          -86.7127686,
          -86.383153,
          -86.6727459,
          -86.63264,
          -86.8362656,
          -86.7354202,
          -86.6403494,
          -86.7136001586914,
          -86.6226654,
          -87.048232,
          -86.4280187584563,
          -86.519637,
          -86.55648,
          -86.6213865,
          -86.4399719238281,
          -86.738327,
          -87.101963,
          -86.7137222,
          -86.421569,
          -86.52962,
          -86.5768476,
          -86.6193314,
          -86.9812622070312,
          -86.48521642341949,
          -86.51181,
          -86.6580581665039,
          -86.624403,
          -86.389641,
          -86.37007212689836,
          -86.3986,
          -86.5226212,
          -87.134729,
          -86.88005534518416,
          -86.3772583,
          -86.545796,
          -86.934634,
          -87.1367035,
          -86.6208,
          -86.60882,
          -86.827262878418,
          -86.3901409519589
         ],
         "marker": {
          "color": "#636efa",
          "size": [
           18,
           6,
           22,
           6,
           6,
           12,
           18,
           6,
           19,
           16,
           6,
           6,
           19,
           6,
           24,
           6,
           14,
           13,
           20,
           11,
           32,
           16,
           20,
           22,
           20,
           4,
           17,
           6,
           6,
           18,
           24,
           30,
           17,
           11,
           33,
           17,
           6,
           6,
           6,
           27,
           17,
           27,
           4,
           18,
           19,
           12,
           20,
           6,
           24,
           6,
           6,
           12,
           19,
           9,
           20,
           26,
           6,
           6,
           6,
           19,
           16,
           13,
           23,
           12,
           18,
           21,
           20,
           6,
           20,
           22,
           14,
           19,
           19,
           20,
           10,
           6,
           6,
           19,
           4,
           22,
           13,
           16,
           14,
           20,
           23,
           14,
           20,
           15,
           27,
           19,
           19,
           4,
           6,
           6,
           15,
           4,
           27,
           19,
           20,
           19,
           14,
           20,
           6,
           20,
           19,
           20,
           6,
           20,
           20,
           12,
           16,
           36,
           21,
           16,
           9,
           6,
           10,
           20,
           16,
           6,
           6,
           9,
           21,
           10,
           27,
           6,
           22,
           6,
           6,
           40,
           19,
           10,
           16,
           19,
           19,
           12,
           4,
           16,
           10,
           19,
           19,
           20,
           19,
           4,
           15,
           18,
           4,
           15,
           20,
           14,
           6,
           6,
           6,
           30,
           19,
           20,
           14,
           6,
           20,
           4,
           6,
           27,
           6,
           21,
           15,
           16,
           15,
           25,
           14,
           20,
           22,
           6,
           12,
           9,
           4,
           15,
           6,
           14,
           6,
           18,
           18,
           29,
           21,
           18,
           11,
           19,
           10,
           11,
           18,
           12,
           4,
           11,
           14,
           4,
           6,
           6,
           6,
           19,
           17,
           14,
           16,
           19,
           6,
           32,
           16,
           6,
           6,
           6,
           4,
           4,
           10,
           19,
           6,
           25,
           4,
           12,
           14,
           15,
           20,
           4,
           18,
           4,
           24,
           14,
           14,
           21,
           14,
           20,
           14,
           19,
           13,
           14,
           13,
           14,
           14,
           14,
           16,
           10,
           14,
           14,
           13,
           23,
           27,
           26,
           20,
           14,
           27,
           6,
           9,
           44,
           9,
           14,
           6,
           18,
           9,
           9,
           14,
           20,
           19,
           13,
           33,
           21,
           24,
           43,
           15,
           33,
           14,
           14,
           9,
           6,
           9,
           19,
           14,
           20,
           13,
           14,
           14,
           8,
           14,
           15,
           35,
           14,
           19,
           28,
           18,
           26,
           14,
           36,
           19,
           18,
           14,
           6,
           25,
           20,
           12,
           14,
           14,
           14,
           14,
           14,
           26,
           14,
           14,
           14,
           14,
           14,
           14,
           14,
           14,
           14,
           4,
           14,
           14,
           21,
           14,
           14,
           14,
           9,
           14,
           14,
           10,
           14,
           18,
           12,
           25,
           10,
           18,
           6
          ],
          "sizemode": "area",
          "sizeref": 0.8979591836734694
         },
         "mode": "markers+text",
         "name": "",
         "showlegend": false,
         "subplot": "mapbox",
         "text": [
          "Publix Supermarket",
          "Publix",
          "Whole Foods - Broadway",
          "Publix",
          "Publix",
          "Trader Joe's",
          "Whole Foods Market",
          "Kroger",
          "Southernaire Market",
          "The Fresh Market",
          "Kroger",
          "Kroger",
          "Walmart Supercenter",
          "Kroger",
          "The Turnip Truck - Gulch",
          "Kroger",
          "Patel Brothers",
          "Piggly Wiggly",
          "Publix Super Markets",
          "The BE Hive",
          "Smokin Oaks Organic Farms Market",
          "Tony's Food Land",
          "Uptown Fruit Market ",
          "Sprouts Farmers Market",
          "Publix Super Markets",
          "ALDI",
          "The Produce Place",
          "Publix",
          "Kroger",
          "Whole Foods Market",
          "Garden Fresh Food Market",
          "Publix Super Market- Nashville",
          "Savi Urban Market",
          "Silo Market",
          "The Turnip Truck - East Nashville",
          "Delta Marketplace",
          "Kroger",
          "Kroger",
          "Kroger",
          "Walmart Neighborhood Market",
          "Osborne's Bi-Rite",
          "La Hacienda Market & Bakery",
          "ALDI",
          "Whole Foods Market",
          "Sperry's Mercantile",
          "Trader Joe's",
          "Publix Super Markets",
          "Kroger",
          "Madison Inglewood Market",
          "Kroger",
          "Kroger",
          "Trader Joe's",
          "Walmart Supercenter",
          "Food Lion",
          "Publix Super Markets",
          "Sulav International Market",
          "Publix",
          "Kroger",
          "Kroger",
          "Walmart Supercenter",
          "The LoCal Distro",
          "Piggly Wiggly",
          "Publix at Bowie Commons",
          "4 Way Market",
          "Compton's Foodland",
          "United Grocery Outlet",
          "Publix Super Markets",
          "Kroger",
          "H.G. Hill Food Store",
          "Houston Meat & Produce",
          "Rosie's Market",
          "Walmart Supercenter",
          "Porter Road Butcher",
          "Publix Super Markets",
          "Soberdough",
          "Kroger",
          "Kroger",
          "Publix Supermarkets",
          "ALDI",
          "Sprouts Farmers Market",
          "Swetts Market",
          "H.G. Hill Market",
          "Lawrence Foods",
          "Publix Super Markets",
          "GFS Gordon Food Service",
          "Dollar General",
          "Publix Super Markets",
          "Osborne Bi-Rite",
          "Walmart Neighborhood Market",
          "Walmart Supercenter",
          "Granny White Market",
          "ALDI",
          "Kroger",
          "Kroger",
          "GFS Marketplace",
          "ALDI",
          "Walmart Neighborhood Market",
          "Walmart Supercenter",
          "Publix Super Markets",
          "Rice’s Country Hams",
          "Chico's Market",
          "Publix Super Markets",
          "Kroger",
          "Publix Super Markets",
          "Walmart Supercenter",
          "Publix Super Markets",
          "Kroger",
          "Supermarket Foodtown",
          "Publix Super Markets",
          "Lee's Market",
          "Los Altos Market",
          "Supermercado y Carniceria La Vaquita",
          "Weiss Drive-In Market",
          "Community Market",
          "Food Lion",
          "Publix",
          "Cash Saver",
          "Publix Super Markets",
          "Laverte's Market",
          "Kroger",
          "Kroger",
          "Food Lion",
          "Finch's Country Store",
          "Cash Saver",
          "Alrayan Market & Restaurant",
          "Kroger",
          "Sprouts Farmers Market",
          "Kroger",
          "Kroger",
          "Publix Super Market at Newman's Crossing",
          "Walmart Supercenter",
          "Save A Lot",
          "Publix - Lebanon",
          "Walmart Supercenter",
          "Walmart Supercenter",
          "Tim's Market",
          "ALDI",
          "Garibaldi Market",
          "A & H Mart",
          "Walmart Supercenter",
          "Walmart Supercenter",
          "DG Market + pOpshelf",
          "Walmart Supercenter",
          "ALDI",
          "Cantrell Market",
          "Kroger Marketplace",
          "ALDI",
          "Merchant's Mart",
          "Publix Super Markets",
          "Crossroads IGA",
          "Publix",
          "Kroger",
          "Kroger",
          "Reed's Produce & Garden Center",
          "Trinity Lane Market",
          "Publix Super Markets",
          "Dollar General",
          "Kroger",
          "DG Market + pOpshelf",
          "ALDI",
          "Publix",
          "Food Lion Inc Store Nbr 693",
          "Kroger",
          "Huff's Grocery & Deli",
          "Mexicali Market",
          "Almaville Market",
          "Glenn's Grocery",
          "Highway 100 Market & Deli",
          "Elysian Market",
          "DG Market + pOpshelf",
          "Litton's Corner Market",
          "Kroger",
          "India Bazaar",
          "Food Lion",
          "ALDI",
          "Worsham's Store",
          "Kroger",
          "Dollar General",
          "Kroger",
          "Kroger Fuel Center",
          "Kroger Fuel Center",
          "Nourish Christian Marketplace",
          "Sombouns Asian Market",
          "Quick Stop Mercado",
          "Indian-Mart",
          "Walmart Supercenter",
          "Los Primos",
          "Stop & Shop",
          "Nashville Delivers",
          "Lewis Market",
          "ALDI",
          "Twice Daily",
          "Barnes Produce",
          "ALDI",
          "Kroger",
          "Kroger",
          "Publix",
          "Walmart Supercenter",
          "Community Markets",
          "Dollar General",
          "El Camino Market",
          "Super Latina Market",
          "Kroger",
          "Smith's Neighborhood Supermarket",
          "Bach Thao Market",
          "Kroger",
          "Kroger",
          "Kroger",
          "ALDI",
          "ALDI",
          "Save A Lot",
          "Walmart Supercenter",
          "Publix",
          "Leone Star African Market",
          "ALDI",
          "Two Way Stop",
          "Dollar General",
          "Smiley's Market",
          "Natchez Trace Market",
          "ALDI",
          "Cook's Star Market",
          "ALDI",
          "Mi Favorita Supermercado",
          "Dollar General",
          "Dollar General",
          "Gladeville Smoke Shop",
          "Dollar General",
          "DG Market + pOpshelf",
          "Jamison Market",
          "Walmart Supercenter",
          "Jr's Foodland",
          "Dollar General",
          "Drew's Market",
          "Dollar General",
          "Teter's Market",
          "Dollar General",
          "Chip's Quik Stop",
          "Save A Lot",
          "Dollar General",
          "Larro's Market",
          "Ibex Minimart",
          "Gordon Food Service GFS",
          "Fairview Stop & Save Market",
          "Al Sanabil Bakery & Market",
          "Oriental Food Market",
          "Dollar General",
          "Walmart Neighborhood Market",
          "Kroger",
          "DG Market",
          "The Grill at Green Hills - Whole Foods Grill",
          "49 Market",
          "Old Hwy Market",
          "Kroger",
          "Cedar Creek Market",
          "Rapid Pak",
          "Food Lion",
          "Dollar General",
          "Publix Super Markets",
          "Trading Post Market",
          "Super Suppers",
          "Rollins Drive-In Market & Storage",
          "Dollar General Market",
          "Lanexang Oriental Market",
          "Sphinx Restaurant & Discount Tobacco Market",
          "Publix Pharmacy",
          "Laolanexang  Oriental Enterprises",
          "Dollar General",
          "Dollar General",
          "Best Stop",
          "Publix",
          "Kwik Mart",
          "Las-Americas Market",
          "Dollar General",
          "Super Mercado Latina",
          "Mekong Market",
          "Dollar General",
          "Dollar General",
          "Kwik Sak",
          "Dollar General",
          "Mercados Marias",
          "Richard & Betty Reed Produce Market",
          "Dollar General",
          "BJ's Wholesale Club",
          "Associated Wholesale Grocers",
          "40th Avenue Market",
          "Mi Placita Mexican Grocery",
          "Dollar General",
          "El Parasio Supermercado Y Carniceria",
          "Walmart Supercenter",
          "Mapco Express 3200",
          "Dollar General",
          "Kroger",
          "Inglewood Drive-In Market",
          "Carniceria Dominguez",
          "L & E Market",
          "Dollar General",
          "Dollar General",
          "NW Broad Shell",
          "Dollar General",
          "Dollar General",
          "Bread Box Food Store # 131",
          "Dollar General",
          "Dollar General",
          "Dollar General",
          "Dollar General",
          "Dollar General",
          "Dollar General",
          "Dollar General",
          "Dollar General",
          "Huff's Grocery",
          "ALDI",
          "Dollar General",
          "Dollar General",
          "Dollar General Market",
          "Dollar General",
          "Dollar General",
          "Dollar General",
          "Food Lion",
          "Dollar General",
          "Dollar General",
          "Save A Lot",
          "Dollar General",
          "Burnett's Marathon",
          "Jingo Market",
          "Curtis Cross Roads Market",
          "Stop N Buy",
          "Mapco Express 3308",
          "Bp Oil"
         ],
         "type": "scattermapbox"
        }
       ],
       "layout": {
        "legend": {
         "itemsizing": "constant",
         "tracegroupgap": 0
        },
        "mapbox": {
         "center": {
          "lat": 36.10548845604066,
          "lon": -86.70408569055326
         },
         "domain": {
          "x": [
           0,
           1
          ],
          "y": [
           0,
           1
          ]
         },
         "style": "open-street-map",
         "zoom": 10
        },
        "margin": {
         "t": 60
        },
        "template": {
         "data": {
          "bar": [
           {
            "error_x": {
             "color": "#2a3f5f"
            },
            "error_y": {
             "color": "#2a3f5f"
            },
            "marker": {
             "line": {
              "color": "#E5ECF6",
              "width": 0.5
             },
             "pattern": {
              "fillmode": "overlay",
              "size": 10,
              "solidity": 0.2
             }
            },
            "type": "bar"
           }
          ],
          "barpolar": [
           {
            "marker": {
             "line": {
              "color": "#E5ECF6",
              "width": 0.5
             },
             "pattern": {
              "fillmode": "overlay",
              "size": 10,
              "solidity": 0.2
             }
            },
            "type": "barpolar"
           }
          ],
          "carpet": [
           {
            "aaxis": {
             "endlinecolor": "#2a3f5f",
             "gridcolor": "white",
             "linecolor": "white",
             "minorgridcolor": "white",
             "startlinecolor": "#2a3f5f"
            },
            "baxis": {
             "endlinecolor": "#2a3f5f",
             "gridcolor": "white",
             "linecolor": "white",
             "minorgridcolor": "white",
             "startlinecolor": "#2a3f5f"
            },
            "type": "carpet"
           }
          ],
          "choropleth": [
           {
            "colorbar": {
             "outlinewidth": 0,
             "ticks": ""
            },
            "type": "choropleth"
           }
          ],
          "contour": [
           {
            "colorbar": {
             "outlinewidth": 0,
             "ticks": ""
            },
            "colorscale": [
             [
              0,
              "#0d0887"
             ],
             [
              0.1111111111111111,
              "#46039f"
             ],
             [
              0.2222222222222222,
              "#7201a8"
             ],
             [
              0.3333333333333333,
              "#9c179e"
             ],
             [
              0.4444444444444444,
              "#bd3786"
             ],
             [
              0.5555555555555556,
              "#d8576b"
             ],
             [
              0.6666666666666666,
              "#ed7953"
             ],
             [
              0.7777777777777778,
              "#fb9f3a"
             ],
             [
              0.8888888888888888,
              "#fdca26"
             ],
             [
              1,
              "#f0f921"
             ]
            ],
            "type": "contour"
           }
          ],
          "contourcarpet": [
           {
            "colorbar": {
             "outlinewidth": 0,
             "ticks": ""
            },
            "type": "contourcarpet"
           }
          ],
          "heatmap": [
           {
            "colorbar": {
             "outlinewidth": 0,
             "ticks": ""
            },
            "colorscale": [
             [
              0,
              "#0d0887"
             ],
             [
              0.1111111111111111,
              "#46039f"
             ],
             [
              0.2222222222222222,
              "#7201a8"
             ],
             [
              0.3333333333333333,
              "#9c179e"
             ],
             [
              0.4444444444444444,
              "#bd3786"
             ],
             [
              0.5555555555555556,
              "#d8576b"
             ],
             [
              0.6666666666666666,
              "#ed7953"
             ],
             [
              0.7777777777777778,
              "#fb9f3a"
             ],
             [
              0.8888888888888888,
              "#fdca26"
             ],
             [
              1,
              "#f0f921"
             ]
            ],
            "type": "heatmap"
           }
          ],
          "heatmapgl": [
           {
            "colorbar": {
             "outlinewidth": 0,
             "ticks": ""
            },
            "colorscale": [
             [
              0,
              "#0d0887"
             ],
             [
              0.1111111111111111,
              "#46039f"
             ],
             [
              0.2222222222222222,
              "#7201a8"
             ],
             [
              0.3333333333333333,
              "#9c179e"
             ],
             [
              0.4444444444444444,
              "#bd3786"
             ],
             [
              0.5555555555555556,
              "#d8576b"
             ],
             [
              0.6666666666666666,
              "#ed7953"
             ],
             [
              0.7777777777777778,
              "#fb9f3a"
             ],
             [
              0.8888888888888888,
              "#fdca26"
             ],
             [
              1,
              "#f0f921"
             ]
            ],
            "type": "heatmapgl"
           }
          ],
          "histogram": [
           {
            "marker": {
             "pattern": {
              "fillmode": "overlay",
              "size": 10,
              "solidity": 0.2
             }
            },
            "type": "histogram"
           }
          ],
          "histogram2d": [
           {
            "colorbar": {
             "outlinewidth": 0,
             "ticks": ""
            },
            "colorscale": [
             [
              0,
              "#0d0887"
             ],
             [
              0.1111111111111111,
              "#46039f"
             ],
             [
              0.2222222222222222,
              "#7201a8"
             ],
             [
              0.3333333333333333,
              "#9c179e"
             ],
             [
              0.4444444444444444,
              "#bd3786"
             ],
             [
              0.5555555555555556,
              "#d8576b"
             ],
             [
              0.6666666666666666,
              "#ed7953"
             ],
             [
              0.7777777777777778,
              "#fb9f3a"
             ],
             [
              0.8888888888888888,
              "#fdca26"
             ],
             [
              1,
              "#f0f921"
             ]
            ],
            "type": "histogram2d"
           }
          ],
          "histogram2dcontour": [
           {
            "colorbar": {
             "outlinewidth": 0,
             "ticks": ""
            },
            "colorscale": [
             [
              0,
              "#0d0887"
             ],
             [
              0.1111111111111111,
              "#46039f"
             ],
             [
              0.2222222222222222,
              "#7201a8"
             ],
             [
              0.3333333333333333,
              "#9c179e"
             ],
             [
              0.4444444444444444,
              "#bd3786"
             ],
             [
              0.5555555555555556,
              "#d8576b"
             ],
             [
              0.6666666666666666,
              "#ed7953"
             ],
             [
              0.7777777777777778,
              "#fb9f3a"
             ],
             [
              0.8888888888888888,
              "#fdca26"
             ],
             [
              1,
              "#f0f921"
             ]
            ],
            "type": "histogram2dcontour"
           }
          ],
          "mesh3d": [
           {
            "colorbar": {
             "outlinewidth": 0,
             "ticks": ""
            },
            "type": "mesh3d"
           }
          ],
          "parcoords": [
           {
            "line": {
             "colorbar": {
              "outlinewidth": 0,
              "ticks": ""
             }
            },
            "type": "parcoords"
           }
          ],
          "pie": [
           {
            "automargin": true,
            "type": "pie"
           }
          ],
          "scatter": [
           {
            "fillpattern": {
             "fillmode": "overlay",
             "size": 10,
             "solidity": 0.2
            },
            "type": "scatter"
           }
          ],
          "scatter3d": [
           {
            "line": {
             "colorbar": {
              "outlinewidth": 0,
              "ticks": ""
             }
            },
            "marker": {
             "colorbar": {
              "outlinewidth": 0,
              "ticks": ""
             }
            },
            "type": "scatter3d"
           }
          ],
          "scattercarpet": [
           {
            "marker": {
             "colorbar": {
              "outlinewidth": 0,
              "ticks": ""
             }
            },
            "type": "scattercarpet"
           }
          ],
          "scattergeo": [
           {
            "marker": {
             "colorbar": {
              "outlinewidth": 0,
              "ticks": ""
             }
            },
            "type": "scattergeo"
           }
          ],
          "scattergl": [
           {
            "marker": {
             "colorbar": {
              "outlinewidth": 0,
              "ticks": ""
             }
            },
            "type": "scattergl"
           }
          ],
          "scattermapbox": [
           {
            "marker": {
             "colorbar": {
              "outlinewidth": 0,
              "ticks": ""
             }
            },
            "type": "scattermapbox"
           }
          ],
          "scatterpolar": [
           {
            "marker": {
             "colorbar": {
              "outlinewidth": 0,
              "ticks": ""
             }
            },
            "type": "scatterpolar"
           }
          ],
          "scatterpolargl": [
           {
            "marker": {
             "colorbar": {
              "outlinewidth": 0,
              "ticks": ""
             }
            },
            "type": "scatterpolargl"
           }
          ],
          "scatterternary": [
           {
            "marker": {
             "colorbar": {
              "outlinewidth": 0,
              "ticks": ""
             }
            },
            "type": "scatterternary"
           }
          ],
          "surface": [
           {
            "colorbar": {
             "outlinewidth": 0,
             "ticks": ""
            },
            "colorscale": [
             [
              0,
              "#0d0887"
             ],
             [
              0.1111111111111111,
              "#46039f"
             ],
             [
              0.2222222222222222,
              "#7201a8"
             ],
             [
              0.3333333333333333,
              "#9c179e"
             ],
             [
              0.4444444444444444,
              "#bd3786"
             ],
             [
              0.5555555555555556,
              "#d8576b"
             ],
             [
              0.6666666666666666,
              "#ed7953"
             ],
             [
              0.7777777777777778,
              "#fb9f3a"
             ],
             [
              0.8888888888888888,
              "#fdca26"
             ],
             [
              1,
              "#f0f921"
             ]
            ],
            "type": "surface"
           }
          ],
          "table": [
           {
            "cells": {
             "fill": {
              "color": "#EBF0F8"
             },
             "line": {
              "color": "white"
             }
            },
            "header": {
             "fill": {
              "color": "#C8D4E3"
             },
             "line": {
              "color": "white"
             }
            },
            "type": "table"
           }
          ]
         },
         "layout": {
          "annotationdefaults": {
           "arrowcolor": "#2a3f5f",
           "arrowhead": 0,
           "arrowwidth": 1
          },
          "autotypenumbers": "strict",
          "coloraxis": {
           "colorbar": {
            "outlinewidth": 0,
            "ticks": ""
           }
          },
          "colorscale": {
           "diverging": [
            [
             0,
             "#8e0152"
            ],
            [
             0.1,
             "#c51b7d"
            ],
            [
             0.2,
             "#de77ae"
            ],
            [
             0.3,
             "#f1b6da"
            ],
            [
             0.4,
             "#fde0ef"
            ],
            [
             0.5,
             "#f7f7f7"
            ],
            [
             0.6,
             "#e6f5d0"
            ],
            [
             0.7,
             "#b8e186"
            ],
            [
             0.8,
             "#7fbc41"
            ],
            [
             0.9,
             "#4d9221"
            ],
            [
             1,
             "#276419"
            ]
           ],
           "sequential": [
            [
             0,
             "#0d0887"
            ],
            [
             0.1111111111111111,
             "#46039f"
            ],
            [
             0.2222222222222222,
             "#7201a8"
            ],
            [
             0.3333333333333333,
             "#9c179e"
            ],
            [
             0.4444444444444444,
             "#bd3786"
            ],
            [
             0.5555555555555556,
             "#d8576b"
            ],
            [
             0.6666666666666666,
             "#ed7953"
            ],
            [
             0.7777777777777778,
             "#fb9f3a"
            ],
            [
             0.8888888888888888,
             "#fdca26"
            ],
            [
             1,
             "#f0f921"
            ]
           ],
           "sequentialminus": [
            [
             0,
             "#0d0887"
            ],
            [
             0.1111111111111111,
             "#46039f"
            ],
            [
             0.2222222222222222,
             "#7201a8"
            ],
            [
             0.3333333333333333,
             "#9c179e"
            ],
            [
             0.4444444444444444,
             "#bd3786"
            ],
            [
             0.5555555555555556,
             "#d8576b"
            ],
            [
             0.6666666666666666,
             "#ed7953"
            ],
            [
             0.7777777777777778,
             "#fb9f3a"
            ],
            [
             0.8888888888888888,
             "#fdca26"
            ],
            [
             1,
             "#f0f921"
            ]
           ]
          },
          "colorway": [
           "#636efa",
           "#EF553B",
           "#00cc96",
           "#ab63fa",
           "#FFA15A",
           "#19d3f3",
           "#FF6692",
           "#B6E880",
           "#FF97FF",
           "#FECB52"
          ],
          "font": {
           "color": "#2a3f5f"
          },
          "geo": {
           "bgcolor": "white",
           "lakecolor": "white",
           "landcolor": "#E5ECF6",
           "showlakes": true,
           "showland": true,
           "subunitcolor": "white"
          },
          "hoverlabel": {
           "align": "left"
          },
          "hovermode": "closest",
          "mapbox": {
           "style": "light"
          },
          "paper_bgcolor": "white",
          "plot_bgcolor": "#E5ECF6",
          "polar": {
           "angularaxis": {
            "gridcolor": "white",
            "linecolor": "white",
            "ticks": ""
           },
           "bgcolor": "#E5ECF6",
           "radialaxis": {
            "gridcolor": "white",
            "linecolor": "white",
            "ticks": ""
           }
          },
          "scene": {
           "xaxis": {
            "backgroundcolor": "#E5ECF6",
            "gridcolor": "white",
            "gridwidth": 2,
            "linecolor": "white",
            "showbackground": true,
            "ticks": "",
            "zerolinecolor": "white"
           },
           "yaxis": {
            "backgroundcolor": "#E5ECF6",
            "gridcolor": "white",
            "gridwidth": 2,
            "linecolor": "white",
            "showbackground": true,
            "ticks": "",
            "zerolinecolor": "white"
           },
           "zaxis": {
            "backgroundcolor": "#E5ECF6",
            "gridcolor": "white",
            "gridwidth": 2,
            "linecolor": "white",
            "showbackground": true,
            "ticks": "",
            "zerolinecolor": "white"
           }
          },
          "shapedefaults": {
           "line": {
            "color": "#2a3f5f"
           }
          },
          "ternary": {
           "aaxis": {
            "gridcolor": "white",
            "linecolor": "white",
            "ticks": ""
           },
           "baxis": {
            "gridcolor": "white",
            "linecolor": "white",
            "ticks": ""
           },
           "bgcolor": "#E5ECF6",
           "caxis": {
            "gridcolor": "white",
            "linecolor": "white",
            "ticks": ""
           }
          },
          "title": {
           "x": 0.05
          },
          "xaxis": {
           "automargin": true,
           "gridcolor": "white",
           "linecolor": "white",
           "ticks": "",
           "title": {
            "standoff": 15
           },
           "zerolinecolor": "white",
           "zerolinewidth": 2
          },
          "yaxis": {
           "automargin": true,
           "gridcolor": "white",
           "linecolor": "white",
           "ticks": "",
           "title": {
            "standoff": 15
           },
           "zerolinecolor": "white",
           "zerolinewidth": 2
          }
         }
        }
       }
      },
      "text/html": [
       "<div>                            <div id=\"5bd3fc11-559e-41ab-9d97-2e2c18126210\" class=\"plotly-graph-div\" style=\"height:525px; width:100%;\"></div>            <script type=\"text/javascript\">                require([\"plotly\"], function(Plotly) {                    window.PLOTLYENV=window.PLOTLYENV || {};                                    if (document.getElementById(\"5bd3fc11-559e-41ab-9d97-2e2c18126210\")) {                    Plotly.newPlot(                        \"5bd3fc11-559e-41ab-9d97-2e2c18126210\",                        [{\"customdata\":[[\"1010 Dr Martin L King Jr Blvd\"],[\"4324 Harding Pike\"],[\"1202 Broadway\"],[\"2223 8th Ave S\"],[\"2324 Lebanon Pike\"],[\"3909 Hillsboro Pike\"],[\"1202 Broadway\"],[\"2201 21st Ave. S\"],[\"150 3rd Ave S\"],[\"235 Franklin Road\"],[\"2615 Franklin Pike\"],[\"800 Monroe St\"],[\"2421 Powell Ave\"],[\"2131 Abbott Martin Rd\"],[\"321 12th Ave S\"],[\"2284 Murfreesboro Pike\"],[\"420 Harding Pl\"],[\"2317 Dickerson Pike\"],[\"8028 Highway 100\"],[\"2414 Gallatin Ave\"],[\"2116 8th Ave S\"],[\"5529 Clarksville Pike\"],[\"1431 Dickerson Pike\"],[\"7620 Highway 70 S\"],[\"101 Creekside Crossing\"],[\"615 Gallatin Ave\"],[\"4000 Murphy Rd\"],[\"1111 Gallatin Ave\"],[\"143 Mcgavock Pike\"],[\"4021 Hillsboro Pike\"],[\"800 Madison Sq\"],[\"6614 Charlotte Pike\"],[\"415 Church St\"],[\"5500 Centennial Blvd\"],[\"701 Woodland St\"],[\"2800 Opryland Dr\"],[\"3410 Gallatin Pike\"],[\"305 Independence Square\"],[\"61 E thompson Ln\"],[\"5531 Edmondson Pike\"],[\"3116 Belmont Blvd\"],[\"2617 Nolensville Pike\"],[\"3758 Nolensville Pike\"],[\"1566 W McEwen Dr\"],[\"5107 Harding Pike\"],[\"90 White Bridge Rd\"],[\"15544 Old Hickory Blvd\"],[\"210 Franklin Rd.\"],[\"4702 Gallatin Pike\"],[\"4560 Harding Pike\"],[\"3410 Gallatin Pike\"],[\"545 Cool Springs Blvd\"],[\"2232 Gallatin Pike N\"],[\"3636 Bell Rd\"],[\"460 Long Hollow Pike\"],[\"4647 Nolensville Pike\"],[\"665 S Mount Juliet Rd\"],[\"7087 Highway 70 S\"],[\"5705 Charlotte Pike\"],[\"3458 Dickerson Pike\"],[\"614 Garfield St\"],[\"1439 Robinson Rd\"],[\"7014 City Center Way\"],[\"1401 Fatherland St\"],[\"2808 Old Smith Springs Rd\"],[\"117 SE Broad St\"],[\"3566 Murfreesboro Pike\"],[\"401 S Mount Juliet Rd\"],[\"2498 Highway 49 E\"],[\"3930 N Mount Juliet Rd\"],[\"3900 Charlotte Ave\"],[\"204 N Anderson Ln\"],[\"501 Gallatin Ave\"],[\"8105 Moores Ln\"],[\"5515 Edmondson Pike\"],[\"2449 Old Fort Pkwy\"],[\"5544 Old Hickory Blvd\"],[\"2020 Fieldstone Pkwy\"],[\"405 American Rd\"],[\"1010 Murfreesboro Rd\"],[\"702 28th Ave N\"],[\"200 W Broadway\"],[\"134 W Kingston Springs Rd\"],[\"10638 Concord Rd\"],[\"465 N Thompson Ln\"],[\"1510 Branch St\"],[\"110 Indian Lake Blvd\"],[\"3302 Nolensville Pike\"],[\"1153 Fortress Blvd\"],[\"7044 Charlotte Pike\"],[\"5301 Granny White Pike\"],[\"1911 Ransom Pl\"],[\"5319 Mount View Rd\"],[\"5713 Edmondson Pike\"],[\"317 Bluebird\"],[\"405 American Rd\"],[\"109 Gallatin Pike N\"],[\"570 Enon Springs Rd E\"],[\"4670 Lebanon Pike\"],[\"12217 Lebanon Rd\"],[\"859 Briley Pkwy\"],[\"11207 Lebanon Rd\"],[\"200 Gallatin Pike S\"],[\"661 President Pl\"],[\"5511 Murfreesboro Rd\"],[\"1483 Nashville Pike\"],[\"123 Northcreek Blvd\"],[\"5312 Cane Ridge Rd\"],[\"1640 Lee Victory Pkwy\"],[\"310 17th Ave N\"],[\"621 Hwy 76\"],[\"2704 Nolensville Pike\"],[\"826 Main St\"],[\"614 Garfield St\"],[\"936 Richards Rd\"],[\"1021 Riverside Dr\"],[\"213 West Main St\"],[\"1731 S Rutherford Blvd\"],[\"1313 51st Ave N\"],[\"5145 Murfreesboro Rd\"],[\"8141 State Highway 100\"],[\"471 E Main St\"],[\"438 Highway 70\"],[\"795 South Main St\"],[\"1107 Memorial Blvd 107\"],[\"845 Nashville Pike\"],[\"143 Wendelwood Dr\"],[\"6690 Nolensville Rd\"],[\"463 Sam Ridley Pkwy W\"],[\"1931 Long Hollow Pike\"],[\"300 Pleasant Grove Rd\"],[\"1113 Murfreesboro Pike\"],[\"445 Hwy 109 N\"],[\"4040 Nolensville Pike\"],[\"1626 Highway 12 S\"],[\"1535 Columbia Ave\"],[\"7035 Highway 70 S\"],[\"2402 Dickerson Pike\"],[\"1104 Murfreesboro Pike\"],[\"7100 Hopgood Rd\"],[\"1112 Nashville Pike\"],[\"240 Ren Mar Dr\"],[\"5824 Nolensville Pike\"],[\"4751 Lebanon Pike\"],[\"600 Rivergate Pkwy\"],[\"2011 Nashville Pike\"],[\"315 N Mt Juliet Rd\"],[\"1800 Elm Hill Pike\"],[\"5021 Hughes Crossing\"],[\"2127 US Hwy 41\"],[\"2650 St Andrews Dr\"],[\"4432 Veterans Pkwy\"],[\"237 E Main St\"],[\"342 4th Ave N\"],[\"1905 Meridian St\"],[\"1400 Liberty Pike\"],[\"4977 Florence Rd\"],[\"1203 Murfreesboro Road\"],[\"5445 Nolensville Rd\"],[\"209 S Royal Oaks Blvd\"],[\"3710 Annex Ave\"],[\"314 Frey St\"],[\"411 Whitman Road\"],[\"5452 Carters Creek Pike\"],[\"3922 Lebanon Pike\"],[\"7586 Almaville Rd\"],[\"4778 Peytonsville Rd\"],[\"8993 Hwy 100\"],[\"3815 Nolensville Pike\"],[\"2907 Highway 31 W\"],[\"2830 Gallatin Pike\"],[\"3054 Columbia Ave\"],[\"330 Mayfield Dr\"],[\"11459 Old Nashville Hwy\"],[\"571 Village Green Dr\"],[\"2030 New Hope Rd\"],[\"4400 Lebanon Rd\"],[\"316 Highway 70\"],[\"5771 Nolensville Road\"],[\"150 McGavock Pike\"],[\"150 McGavock Pike\"],[\"846 Conference Dr\"],[\"1722 S Rutherford Blvd\"],[\"760 E North Field Bivd\"],[\"707 Rivergate Pkwy\"],[\"2000 Old Fort Pkwy\"],[\"1203 Murfreesboro Rd\"],[\"5100 Indiana Ave\"],[\"6591 Bluff Rd\"],[null],[\"1701 Mallory Ln\"],[\"222 W New Hwy 96\"],[\"900 Rosa L Parks Blvd\"],[\"135 S Gallatin Pike\"],[\"1776 W Northfield Blvd\"],[\"4120 N Mount Juliet Rd\"],[\"3415 Memorial Blvd\"],[\"2012 Memorial Blvd\"],[\"336 E Trinity Ln\"],[\"1118 Dickerson Pike\"],[\"5911 Morrow Rd\"],[\"14911 Old Hickory Blvd\"],[\"1950 Madison Square Blvd\"],[\"5154 Murfreesboro Rd\"],[\"3747 Annex Ave\"],[\"4400 Lebanon Pike\"],[\"1010 Glenbrook Way\"],[\"595 Hillsboro Rd\"],[\"407 S Lowry St\"],[\"640 Robert Rose Dr\"],[\"1134 Gallatin Pike S\"],[\"3035 Hamilton Church Rd\"],[\"4175 Franklin Rd\"],[\"459 Bell Rd\"],[\"3267 Memorial Blvd\"],[\"7207 Nolensville Rd\"],[\"7200 Whites Creek Pike\"],[\"5532 Clarksville Pike\"],[\"8456 Hwy 100\"],[\"7117 Southpoint Pkwy\"],[\"3010 Stewarts Ferry Pike\"],[\"217 Indian Lake Blvd\"],[\"6317 Charlotte Pike\"],[\"7210 Nolensville Rd\"],[\"5310 Leanna Road\"],[\"8702 Stewarts Ferry Pike\"],[\"1213 Dickerson Rd\"],[\"4491 Lebanon Pike\"],[\"1974 Wilson Pike\"],[\"4424 Lebanon Pike\"],[\"323 E Main St\"],[\"5501 Clarksville Pike\"],[\"998 Davidson Dr\"],[\"601 Gallatin Ave\"],[\"3505 River Rd\"],[\"3852 Dickerson Pike\"],[\"7250 Whites Creek Pike\"],[\"5154 Murfreesboro Rd\"],[\"1898 Almaville Rd\"],[\"415 Old Nashville Hwy\"],[\"455 Bell Rd\"],[\"95 Seaboard Ln\"],[\"2655 Fairview Blvd\"],[\"18 E Thompson Ln\"],[\"520 S Church St\"],[\"3776 Nolensville Rd\"],[\"2478 New Salem Hwy\"],[\"2325 Memorial Blvd\"],[\"2259 Highway 41 S\"],[\"4021 Hillsboro Pike\"],[\"4220 Highway 49 W\"],[\"\"],[\"\"],[\"2300 Nonaville Rd\"],[\"4810 Murfreesboro Rd\"],[\"564 Nissan Dr\"],[\"6009 Charlotte Pike\"],[\"11207 Lebanon Rd\"],[\"10412 Old Nashville Hwy\"],[\"1031 Riverside Dr\"],[\"1200 Old Hickory Blvd\"],[\"301 E Thompson Ln\"],[\"212 Thompson Ln\"],[\"1094 Murfreesboro Pike\"],[\"2020 Fieldstone Pkwy\"],[\"2861 Logan St\"],[\"1461 Bell Rd\"],[\"7107 Highway 70 S\"],[\"3420 Lebanon Pike\"],[\"211 Maharris Dr\"],[\"230 Thompson Ln\"],[\"4715 Nolensville Pike\"],[\"2174 Gallatin Pike N\"],[\"4539 Nolensville Pike\"],[\"949 Richards Rd\"],[\"7605 Hwy. 41A\"],[\"2403 Lebanon Pike\"],[\"520 Waldron Rd\"],[\"7507 Old Clarksville Pike\"],[\"264 Heritage Park Dr\"],[\"342 4th Ave N\"],[\"298 Sam Ridley Pkwy E\"],[\"181 Adams Ln\"],[\"500 S Cartwright St\"],[\"925 40th Ave N\"],[\"1225 Columbia Ave\"],[\"415 West Trinity Ln\"],[\"301 Gallatin Pike S\"],[\"2012 Memorial Blvd\"],[\"1302 Neelys Bend Rd\"],[\"2724 Murfreesboro Pike\"],[\"250 Williamson Sq\"],[\"3212 Gallatin Pike\"],[\"2569 Murfreesboro Pike\"],[\"606 Millwood Dr\"],[\"3926 Lebanon Pike\"],[\"1010 Sams Creek Rd\"],[\"2125 NW Broad St\"],[\"3288 S Mount Juliet Rd\"],[\"670 Stones River Rd\"],[\"100 Nokes Dr\"],[\"227 Cason Ln\"],[\"3006 Gallatin Pike\"],[\"120 W. Kingston Springs Rd\"],[\"315 N Main St\"],[\"8702 Stewarts Ferry Pike #101\"],[\"280 Nonaville Rd\"],[\"5152 Murfreesboro Rd\"],[\"211 W Main St\"],[\"\"],[\"5109 Franklin Rd\"],[\"1229 N Mount Juliet Rd\"],[\"311 Martingale Dr\"],[\"287 New Shackle Island Rd\"],[\"352 W Northfield Blvd\"],[\"2011 Se Broad St\"],[\"635 Medical Center Parkway\"],[\"250 Country Village Dr\"],[\"2391 Fairview Blvd\"],[\"595 Hillsboro Rd\"],[\"750 Jessica St\"],[\"14048 Old Nashville Hwy\"],[\"1279 Jackson Felts Rd\"],[\"2431 Fairview Blvd\"],[\"150 Curtis Crossroads\"],[\"240 Sanders Ferry Rd\"],[\"1311 Murfreesboro Rd\"],[\"1320 Memorial Blvd\"]],\"hovertemplate\":\"\\u003cb\\u003e%{hovertext}\\u003c\\u002fb\\u003e\\u003cbr\\u003e\\u003cbr\\u003eSize=%{marker.size}\\u003cbr\\u003eName=%{text}\\u003cbr\\u003eLatitude=%{lat}\\u003cbr\\u003eLongitude=%{lon}\\u003cbr\\u003eAddress=%{customdata[0]}\\u003cextra\\u003e\\u003c\\u002fextra\\u003e\",\"hovertext\":[\"Publix Supermarket\",\"Publix\",\"Whole Foods - Broadway\",\"Publix\",\"Publix\",\"Trader Joe's\",\"Whole Foods Market\",\"Kroger\",\"Southernaire Market\",\"The Fresh Market\",\"Kroger\",\"Kroger\",\"Walmart Supercenter\",\"Kroger\",\"The Turnip Truck - Gulch\",\"Kroger\",\"Patel Brothers\",\"Piggly Wiggly\",\"Publix Super Markets\",\"The BE Hive\",\"Smokin Oaks Organic Farms Market\",\"Tony's Food Land\",\"Uptown Fruit Market \",\"Sprouts Farmers Market\",\"Publix Super Markets\",\"ALDI\",\"The Produce Place\",\"Publix\",\"Kroger\",\"Whole Foods Market\",\"Garden Fresh Food Market\",\"Publix Super Market- Nashville\",\"Savi Urban Market\",\"Silo Market\",\"The Turnip Truck - East Nashville\",\"Delta Marketplace\",\"Kroger\",\"Kroger\",\"Kroger\",\"Walmart Neighborhood Market\",\"Osborne's Bi-Rite\",\"La Hacienda Market & Bakery\",\"ALDI\",\"Whole Foods Market\",\"Sperry's Mercantile\",\"Trader Joe's\",\"Publix Super Markets\",\"Kroger\",\"Madison Inglewood Market\",\"Kroger\",\"Kroger\",\"Trader Joe's\",\"Walmart Supercenter\",\"Food Lion\",\"Publix Super Markets\",\"Sulav International Market\",\"Publix\",\"Kroger\",\"Kroger\",\"Walmart Supercenter\",\"The LoCal Distro\",\"Piggly Wiggly\",\"Publix at Bowie Commons\",\"4 Way Market\",\"Compton's Foodland\",\"United Grocery Outlet\",\"Publix Super Markets\",\"Kroger\",\"H.G. Hill Food Store\",\"Houston Meat & Produce\",\"Rosie's Market\",\"Walmart Supercenter\",\"Porter Road Butcher\",\"Publix Super Markets\",\"Soberdough\",\"Kroger\",\"Kroger\",\"Publix Supermarkets\",\"ALDI\",\"Sprouts Farmers Market\",\"Swetts Market\",\"H.G. Hill Market\",\"Lawrence Foods\",\"Publix Super Markets\",\"GFS Gordon Food Service\",\"Dollar General\",\"Publix Super Markets\",\"Osborne Bi-Rite\",\"Walmart Neighborhood Market\",\"Walmart Supercenter\",\"Granny White Market\",\"ALDI\",\"Kroger\",\"Kroger\",\"GFS Marketplace\",\"ALDI\",\"Walmart Neighborhood Market\",\"Walmart Supercenter\",\"Publix Super Markets\",\"Rice\\u2019s Country Hams\",\"Chico's Market\",\"Publix Super Markets\",\"Kroger\",\"Publix Super Markets\",\"Walmart Supercenter\",\"Publix Super Markets\",\"Kroger\",\"Supermarket Foodtown\",\"Publix Super Markets\",\"Lee's Market\",\"Los Altos Market\",\"Supermercado y Carniceria La Vaquita\",\"Weiss Drive-In Market\",\"Community Market\",\"Food Lion\",\"Publix\",\"Cash Saver\",\"Publix Super Markets\",\"Laverte's Market\",\"Kroger\",\"Kroger\",\"Food Lion\",\"Finch's Country Store\",\"Cash Saver\",\"Alrayan Market & Restaurant\",\"Kroger\",\"Sprouts Farmers Market\",\"Kroger\",\"Kroger\",\"Publix Super Market at Newman's Crossing\",\"Walmart Supercenter\",\"Save A Lot\",\"Publix - Lebanon\",\"Walmart Supercenter\",\"Walmart Supercenter\",\"Tim's Market\",\"ALDI\",\"Garibaldi Market\",\"A & H Mart\",\"Walmart Supercenter\",\"Walmart Supercenter\",\"DG Market + pOpshelf\",\"Walmart Supercenter\",\"ALDI\",\"Cantrell Market\",\"Kroger Marketplace\",\"ALDI\",\"Merchant's Mart\",\"Publix Super Markets\",\"Crossroads IGA\",\"Publix\",\"Kroger\",\"Kroger\",\"Reed's Produce & Garden Center\",\"Trinity Lane Market\",\"Publix Super Markets\",\"Dollar General\",\"Kroger\",\"DG Market + pOpshelf\",\"ALDI\",\"Publix\",\"Food Lion Inc Store Nbr 693\",\"Kroger\",\"Huff's Grocery & Deli\",\"Mexicali Market\",\"Almaville Market\",\"Glenn's Grocery\",\"Highway 100 Market & Deli\",\"Elysian Market\",\"DG Market + pOpshelf\",\"Litton's Corner Market\",\"Kroger\",\"India Bazaar\",\"Food Lion\",\"ALDI\",\"Worsham's Store\",\"Kroger\",\"Dollar General\",\"Kroger\",\"Kroger Fuel Center\",\"Kroger Fuel Center\",\"Nourish Christian Marketplace\",\"Sombouns Asian Market\",\"Quick Stop Mercado\",\"Indian-Mart\",\"Walmart Supercenter\",\"Los Primos\",\"Stop & Shop\",\"Nashville Delivers\",\"Lewis Market\",\"ALDI\",\"Twice Daily\",\"Barnes Produce\",\"ALDI\",\"Kroger\",\"Kroger\",\"Publix\",\"Walmart Supercenter\",\"Community Markets\",\"Dollar General\",\"El Camino Market\",\"Super Latina Market\",\"Kroger\",\"Smith's Neighborhood Supermarket\",\"Bach Thao Market\",\"Kroger\",\"Kroger\",\"Kroger\",\"ALDI\",\"ALDI\",\"Save A Lot\",\"Walmart Supercenter\",\"Publix\",\"Leone Star African Market\",\"ALDI\",\"Two Way Stop\",\"Dollar General\",\"Smiley's Market\",\"Natchez Trace Market\",\"ALDI\",\"Cook's Star Market\",\"ALDI\",\"Mi Favorita Supermercado\",\"Dollar General\",\"Dollar General\",\"Gladeville Smoke Shop\",\"Dollar General\",\"DG Market + pOpshelf\",\"Jamison Market\",\"Walmart Supercenter\",\"Jr's Foodland\",\"Dollar General\",\"Drew's Market\",\"Dollar General\",\"Teter's Market\",\"Dollar General\",\"Chip's Quik Stop\",\"Save A Lot\",\"Dollar General\",\"Larro's Market\",\"Ibex Minimart\",\"Gordon Food Service GFS\",\"Fairview Stop & Save Market\",\"Al Sanabil Bakery & Market\",\"Oriental Food Market\",\"Dollar General\",\"Walmart Neighborhood Market\",\"Kroger\",\"DG Market\",\"The Grill at Green Hills - Whole Foods Grill\",\"49 Market\",\"Old Hwy Market\",\"Kroger\",\"Cedar Creek Market\",\"Rapid Pak\",\"Food Lion\",\"Dollar General\",\"Publix Super Markets\",\"Trading Post Market\",\"Super Suppers\",\"Rollins Drive-In Market & Storage\",\"Dollar General Market\",\"Lanexang Oriental Market\",\"Sphinx Restaurant & Discount Tobacco Market\",\"Publix Pharmacy\",\"Laolanexang  Oriental Enterprises\",\"Dollar General\",\"Dollar General\",\"Best Stop\",\"Publix\",\"Kwik Mart\",\"Las-Americas Market\",\"Dollar General\",\"Super Mercado Latina\",\"Mekong Market\",\"Dollar General\",\"Dollar General\",\"Kwik Sak\",\"Dollar General\",\"Mercados Marias\",\"Richard & Betty Reed Produce Market\",\"Dollar General\",\"BJ's Wholesale Club\",\"Associated Wholesale Grocers\",\"40th Avenue Market\",\"Mi Placita Mexican Grocery\",\"Dollar General\",\"El Parasio Supermercado Y Carniceria\",\"Walmart Supercenter\",\"Mapco Express 3200\",\"Dollar General\",\"Kroger\",\"Inglewood Drive-In Market\",\"Carniceria Dominguez\",\"L & E Market\",\"Dollar General\",\"Dollar General\",\"NW Broad Shell\",\"Dollar General\",\"Dollar General\",\"Bread Box Food Store # 131\",\"Dollar General\",\"Dollar General\",\"Dollar General\",\"Dollar General\",\"Dollar General\",\"Dollar General\",\"Dollar General\",\"Dollar General\",\"Huff's Grocery\",\"ALDI\",\"Dollar General\",\"Dollar General\",\"Dollar General Market\",\"Dollar General\",\"Dollar General\",\"Dollar General\",\"Food Lion\",\"Dollar General\",\"Dollar General\",\"Save A Lot\",\"Dollar General\",\"Burnett's Marathon\",\"Jingo Market\",\"Curtis Cross Roads Market\",\"Stop N Buy\",\"Mapco Express 3308\",\"Bp Oil\"],\"lat\":[36.163321,36.126121,36.156768,36.12885,36.1690184,36.1050899,36.1563,36.130146,36.15992236194708,36.03118,36.11994448925291,36.175772,36.11097,36.10567994636792,36.152750480096714,36.08844,36.0815086,36.2077522277832,36.0470726898557,36.1948866,36.13129,36.28022,36.199885,36.07996937,36.036936,36.18327098081265,36.1410399,36.1902481,36.170583,36.103429,36.255471,36.140221,36.16345493302132,36.16542,36.1738272,36.211456857142736,36.210153685671415,35.931872,36.11075,36.042188,36.1179314,36.1161903,36.09028738010095,35.934445,36.10482167,36.1307261,36.04086,36.031936,36.2303581237793,36.1232988,36.210158,35.94926555501651,36.30846930937958,36.1506119,36.3314437866211,36.068604,36.1606784,36.07364,36.148753,36.24436765885677,36.18143,36.2560844,35.9750539809465,36.1740112,36.08907,35.8420144028205,36.053478,36.164802967639254,36.3973282747467,36.2250786,36.1527519226074,36.32278,36.1820737,35.96355912821722,36.0435562133789,35.8436773123623,36.1817524,35.96424,36.14513,35.91554497,36.15903,36.3895493,36.0873599,35.9972687,35.8549097925425,36.19438735885222,36.30975,36.101432800293,35.867104946826785,36.131790594856135,36.065186,36.0881174,36.0494596604985,36.039176,36.30066,36.1449115306,36.2639814,35.97095,36.216472,36.2304753810167,36.1366234,36.2327953182491,36.2614937,35.9799753570123,36.014739,36.359651,36.3264798,36.0431537,35.9412804,36.15752,36.4694503,36.1142272949219,36.1757126,36.1814308,36.0689829289913,35.912647,36.30397,35.81308,36.16172,36.02207,36.04343,36.39008849462034,36.1000633239746,36.2808747,35.858521,36.377945,35.8803535,36.000358,35.98325269504688,36.381768192669654,36.17878079194063,36.1263809,36.193386220430625,36.08248470608552,36.247874,35.9084511,36.07504161605711,36.208619,36.1265729,35.96302,36.37697521974353,36.3966293,36.04194991416067,36.214269173049345,36.3126984,36.34414,36.176167299997445,36.146157,35.8638154220783,36.40973778747504,35.8124195681988,35.8443888276815,36.307621,35.9290085,36.2054214477539,35.9242592,35.924518,35.91722,36.049533,35.914398,36.1396775430815,36.296553,35.92894,35.81232,36.1943588,35.8699417,35.8166144467151,36.02526,36.086917,36.4616661071777,36.2021942138672,35.8936615,35.9544192209707,35.95704,36.378184546558984,36.3734315798723,36.2377777,36.096915,36.04625,36.1711884,36.1711884,36.31836,35.8118286132812,35.8680595,36.305809,35.85006372992209,35.917128134853,36.1566048,36.002397,36.054280000000006,35.966032,35.924268,36.1700134,36.261669618635054,35.871395,36.2294127483398,35.910708,35.878349,36.2051,36.191566,36.16193,36.044888836669,36.022001,36.01959,36.1410789489746,36.2163549560775,36.333502,35.9328962,35.971588,35.854144146069984,36.250564,36.06098998339757,35.842046688483,36.0737687,35.9045048875605,35.96323,36.318815,36.2808466,36.0350177,35.995798,36.1255188,36.321612,36.14475,35.96382,35.93927,36.11222,36.294444,36.2144241333008,35.922088,36.21649750686617,35.8459587097168,36.27924,36.1272446,36.183075,36.2041053771973,36.2662392,36.3209381,36.019328,35.931056,36.0059547424316,36.0740623,35.965145,35.9458885,36.115346,35.84103,36.08849,35.814212,35.886723,36.4421611456996,36.103429,36.4603691,36.42931,35.9325940219917,36.2623596191406,35.8681412,35.9850807,36.1230634929557,36.2310677,35.9482,35.912423,36.2723922729492,36.12584875728217,36.111283,36.1270117,35.9644889831543,36.1117462,36.0451698303223,36.0734939575195,36.18961,36.36471884873463,36.11091556905762,36.0673294067383,36.305611,36.0699615,36.06956,36.442676,36.1689491,35.9988021850586,36.330527,35.8731918,35.9290085,35.996012,36.168142,36.32100482147509,36.161,35.9156685,36.208705,36.2601471,35.879093,36.2399598,36.06932,35.9175224,36.2069016,36.0761183,36.129940032959,36.1944504,36.228577,35.8790454043965,36.124699,36.048396,36.2955145,35.8430023193359,36.2036209,36.086863,36.3254166,36.112218,36.2345,36.0199586,36.3048973,35.8171997070312,35.843538435641825,36.18889,36.2572975158691,36.320105,35.872205,35.813408582333686,35.855128,35.9570313,35.962285,35.932417626233345,35.8335419,35.984703,36.34624,35.9598618,36.26102,36.28645,35.9154243469238,35.8614857344653],\"legendgroup\":\"\",\"lon\":[-86.789647,-86.8462114,-86.788061,-86.77845,-86.6838698,-86.81528,-86.7886,-86.802482,-86.77411835994823,-86.791293,-86.77717958387726,-86.794253,-86.76937,-86.81844030486614,-86.78549830613436,-86.64773,-86.7276,-86.7670364379883,-86.9521838676792,-86.743203,-86.7784,-86.8769989,-86.769471,-86.94907808,-86.798796,-86.7475518,-86.83327,-86.7451243,-86.678616,-86.8190653,-86.716399,-86.882913,-86.77942,-86.85413,-86.7600285,-86.69459006794672,-86.73166480317425,-86.877315,-86.72559,-86.745583,-86.7966309,-86.7480597,-86.7323177,-86.824652,-86.86816833,-86.852227,-86.74167,-86.787412,-86.7244033813477,-86.8501592,-86.732448,-86.82177296748878,-86.68660317425412,-86.6268234,-86.6989669799805,-86.72039,-86.5152176,-86.91986,-86.860293,-86.76291,-86.795,-86.6541061,-87.1293061226606,-86.7459793,-86.6095481,-86.3906949795732,-86.614923,-86.51197688318322,-87.0316640018733,-86.5150375,-86.8334350585938,-86.59537,-86.7489769,-86.80242175889569,-86.7451171875,-86.4418971911073,-86.604877,-86.88286,-86.87388,-86.83851,-86.8182999,-86.4506226,-87.10489,-86.6921082,-86.4304377883673,-86.7264173116567,-86.60486,-86.7398452758789,-86.46458550976817,-86.90750187425482,-86.813318,-86.65080772479996,-86.6473011107809,-86.745124,-86.70224,-86.8735013898284,-86.7140176,-86.4958,-86.592376,-86.5310963988304,-86.6995087,-86.5144087906598,-86.7126312,-86.5550343984273,-86.545588,-86.495761,-86.698614,-86.66123789999999,-86.5275269,-86.797,-86.67243979999999,-86.7464141845703,-86.7575302,-86.7949982,-86.6814462840557,-86.82904,-86.61878,-86.36834,-86.84944,-86.57606,-86.95669,-86.43608547314167,-87.0490417480469,-87.0699058,-86.39313,-86.46546,-86.38656583,-86.691232,-86.55117151908804,-86.5510522331778,-86.51964694480331,-86.7110214,-86.40911877480707,-86.72560500353205,-87.032526,-86.8743896,-86.91764332944776,-86.76775,-86.7105886,-87.14002,-86.47590281534738,-87.028717,-86.70918017426854,-86.59173511349309,-86.7065735,-86.52595,-86.511774,-86.706186,-86.8430513823787,-86.78696971275906,-86.4576596573142,-86.4931873977184,-86.600732,-86.8731308,-86.7656021118164,-86.7955017,-86.469585,-86.82924,-86.715563,-86.832833,-86.8821284220552,-87.0494273,-86.9184,-86.98352,-86.6227417,-86.5797806,-86.7745850461541,-87.00857,-86.730796,-86.664176940918,-86.7387847900391,-86.8807068,-86.8021074085413,-86.51947,-86.47454843261858,-86.6166607050062,-86.3957062,-87.044094,-86.7135,-86.6800995,-86.6800995,-86.7013,-86.3672332763672,-86.3740700914704,-86.7052765,-86.42808597409497,-86.8316824043899,-86.848999,-86.7023814,-86.65168514999999,-86.814922,-86.878711,-86.7891159,-86.71151432453689,-86.415624,-86.5149766461526,-86.3839249,-86.382799,-86.76186,-86.773177,-86.86118,-86.7032972096995,-86.576123,-86.57663,-86.8840026855469,-86.6039974717355,-86.621105,-86.8787524,-86.507884,-86.4322234766314,-86.720893,-86.62913449233146,-86.471893563874,-86.6356455,-86.3837470748917,-86.67682,-86.866026,-86.8753624,-86.97297133005941,-86.686932,-86.5184937,-86.601602,-86.87166,-86.674614,-86.43022,-86.421558,-86.730768,-86.5993423461914,-86.766365,-86.60079401165669,-86.3878479003906,-86.8741,-86.9031251,-86.7485123,-86.9914855957031,-86.7572937,-86.867218,-86.576753,-86.534716,-86.565803527832,-86.6355209,-86.818542,-87.1460419,-86.71992,-86.39259,-86.73172,-86.447192,-86.384175,-86.8115629,-86.8190653,-86.952858,-86.81353,-86.788777686469,-86.5218734741211,-86.7117004,-86.4952698,-86.9121278720899,-86.5137863,-86.50754,-86.828359,-86.7614898681641,-86.7138918,-86.741288,-86.7111418,-86.8834075927734,-86.7418924,-86.687370300293,-86.922607421875,-86.62854,-86.44249202786095,-86.7422429099679,-86.7190628051758,-86.690305,-86.7226486,-86.68259,-87.10281,-86.6821442,-86.5971374511719,-86.960146,-86.3908386,-86.8731308,-86.497829,-86.520374,-86.70484146113395,-86.83639,-86.8730774,-86.785784,-86.7127686,-86.383153,-86.6727459,-86.63264,-86.8362656,-86.7354202,-86.6403494,-86.7136001586914,-86.6226654,-87.048232,-86.4280187584563,-86.519637,-86.55648,-86.6213865,-86.4399719238281,-86.738327,-87.101963,-86.7137222,-86.421569,-86.52962,-86.5768476,-86.6193314,-86.9812622070312,-86.48521642341949,-86.51181,-86.6580581665039,-86.624403,-86.389641,-86.37007212689836,-86.3986,-86.5226212,-87.134729,-86.88005534518416,-86.3772583,-86.545796,-86.934634,-87.1367035,-86.6208,-86.60882,-86.827262878418,-86.3901409519589],\"marker\":{\"color\":\"#636efa\",\"size\":[18,6,22,6,6,12,18,6,19,16,6,6,19,6,24,6,14,13,20,11,32,16,20,22,20,4,17,6,6,18,24,30,17,11,33,17,6,6,6,27,17,27,4,18,19,12,20,6,24,6,6,12,19,9,20,26,6,6,6,19,16,13,23,12,18,21,20,6,20,22,14,19,19,20,10,6,6,19,4,22,13,16,14,20,23,14,20,15,27,19,19,4,6,6,15,4,27,19,20,19,14,20,6,20,19,20,6,20,20,12,16,36,21,16,9,6,10,20,16,6,6,9,21,10,27,6,22,6,6,40,19,10,16,19,19,12,4,16,10,19,19,20,19,4,15,18,4,15,20,14,6,6,6,30,19,20,14,6,20,4,6,27,6,21,15,16,15,25,14,20,22,6,12,9,4,15,6,14,6,18,18,29,21,18,11,19,10,11,18,12,4,11,14,4,6,6,6,19,17,14,16,19,6,32,16,6,6,6,4,4,10,19,6,25,4,12,14,15,20,4,18,4,24,14,14,21,14,20,14,19,13,14,13,14,14,14,16,10,14,14,13,23,27,26,20,14,27,6,9,44,9,14,6,18,9,9,14,20,19,13,33,21,24,43,15,33,14,14,9,6,9,19,14,20,13,14,14,8,14,15,35,14,19,28,18,26,14,36,19,18,14,6,25,20,12,14,14,14,14,14,26,14,14,14,14,14,14,14,14,14,4,14,14,21,14,14,14,9,14,14,10,14,18,12,25,10,18,6],\"sizemode\":\"area\",\"sizeref\":0.8979591836734694},\"mode\":\"markers+text\",\"name\":\"\",\"showlegend\":false,\"subplot\":\"mapbox\",\"text\":[\"Publix Supermarket\",\"Publix\",\"Whole Foods - Broadway\",\"Publix\",\"Publix\",\"Trader Joe's\",\"Whole Foods Market\",\"Kroger\",\"Southernaire Market\",\"The Fresh Market\",\"Kroger\",\"Kroger\",\"Walmart Supercenter\",\"Kroger\",\"The Turnip Truck - Gulch\",\"Kroger\",\"Patel Brothers\",\"Piggly Wiggly\",\"Publix Super Markets\",\"The BE Hive\",\"Smokin Oaks Organic Farms Market\",\"Tony's Food Land\",\"Uptown Fruit Market \",\"Sprouts Farmers Market\",\"Publix Super Markets\",\"ALDI\",\"The Produce Place\",\"Publix\",\"Kroger\",\"Whole Foods Market\",\"Garden Fresh Food Market\",\"Publix Super Market- Nashville\",\"Savi Urban Market\",\"Silo Market\",\"The Turnip Truck - East Nashville\",\"Delta Marketplace\",\"Kroger\",\"Kroger\",\"Kroger\",\"Walmart Neighborhood Market\",\"Osborne's Bi-Rite\",\"La Hacienda Market & Bakery\",\"ALDI\",\"Whole Foods Market\",\"Sperry's Mercantile\",\"Trader Joe's\",\"Publix Super Markets\",\"Kroger\",\"Madison Inglewood Market\",\"Kroger\",\"Kroger\",\"Trader Joe's\",\"Walmart Supercenter\",\"Food Lion\",\"Publix Super Markets\",\"Sulav International Market\",\"Publix\",\"Kroger\",\"Kroger\",\"Walmart Supercenter\",\"The LoCal Distro\",\"Piggly Wiggly\",\"Publix at Bowie Commons\",\"4 Way Market\",\"Compton's Foodland\",\"United Grocery Outlet\",\"Publix Super Markets\",\"Kroger\",\"H.G. Hill Food Store\",\"Houston Meat & Produce\",\"Rosie's Market\",\"Walmart Supercenter\",\"Porter Road Butcher\",\"Publix Super Markets\",\"Soberdough\",\"Kroger\",\"Kroger\",\"Publix Supermarkets\",\"ALDI\",\"Sprouts Farmers Market\",\"Swetts Market\",\"H.G. Hill Market\",\"Lawrence Foods\",\"Publix Super Markets\",\"GFS Gordon Food Service\",\"Dollar General\",\"Publix Super Markets\",\"Osborne Bi-Rite\",\"Walmart Neighborhood Market\",\"Walmart Supercenter\",\"Granny White Market\",\"ALDI\",\"Kroger\",\"Kroger\",\"GFS Marketplace\",\"ALDI\",\"Walmart Neighborhood Market\",\"Walmart Supercenter\",\"Publix Super Markets\",\"Rice\\u2019s Country Hams\",\"Chico's Market\",\"Publix Super Markets\",\"Kroger\",\"Publix Super Markets\",\"Walmart Supercenter\",\"Publix Super Markets\",\"Kroger\",\"Supermarket Foodtown\",\"Publix Super Markets\",\"Lee's Market\",\"Los Altos Market\",\"Supermercado y Carniceria La Vaquita\",\"Weiss Drive-In Market\",\"Community Market\",\"Food Lion\",\"Publix\",\"Cash Saver\",\"Publix Super Markets\",\"Laverte's Market\",\"Kroger\",\"Kroger\",\"Food Lion\",\"Finch's Country Store\",\"Cash Saver\",\"Alrayan Market & Restaurant\",\"Kroger\",\"Sprouts Farmers Market\",\"Kroger\",\"Kroger\",\"Publix Super Market at Newman's Crossing\",\"Walmart Supercenter\",\"Save A Lot\",\"Publix - Lebanon\",\"Walmart Supercenter\",\"Walmart Supercenter\",\"Tim's Market\",\"ALDI\",\"Garibaldi Market\",\"A & H Mart\",\"Walmart Supercenter\",\"Walmart Supercenter\",\"DG Market + pOpshelf\",\"Walmart Supercenter\",\"ALDI\",\"Cantrell Market\",\"Kroger Marketplace\",\"ALDI\",\"Merchant's Mart\",\"Publix Super Markets\",\"Crossroads IGA\",\"Publix\",\"Kroger\",\"Kroger\",\"Reed's Produce & Garden Center\",\"Trinity Lane Market\",\"Publix Super Markets\",\"Dollar General\",\"Kroger\",\"DG Market + pOpshelf\",\"ALDI\",\"Publix\",\"Food Lion Inc Store Nbr 693\",\"Kroger\",\"Huff's Grocery & Deli\",\"Mexicali Market\",\"Almaville Market\",\"Glenn's Grocery\",\"Highway 100 Market & Deli\",\"Elysian Market\",\"DG Market + pOpshelf\",\"Litton's Corner Market\",\"Kroger\",\"India Bazaar\",\"Food Lion\",\"ALDI\",\"Worsham's Store\",\"Kroger\",\"Dollar General\",\"Kroger\",\"Kroger Fuel Center\",\"Kroger Fuel Center\",\"Nourish Christian Marketplace\",\"Sombouns Asian Market\",\"Quick Stop Mercado\",\"Indian-Mart\",\"Walmart Supercenter\",\"Los Primos\",\"Stop & Shop\",\"Nashville Delivers\",\"Lewis Market\",\"ALDI\",\"Twice Daily\",\"Barnes Produce\",\"ALDI\",\"Kroger\",\"Kroger\",\"Publix\",\"Walmart Supercenter\",\"Community Markets\",\"Dollar General\",\"El Camino Market\",\"Super Latina Market\",\"Kroger\",\"Smith's Neighborhood Supermarket\",\"Bach Thao Market\",\"Kroger\",\"Kroger\",\"Kroger\",\"ALDI\",\"ALDI\",\"Save A Lot\",\"Walmart Supercenter\",\"Publix\",\"Leone Star African Market\",\"ALDI\",\"Two Way Stop\",\"Dollar General\",\"Smiley's Market\",\"Natchez Trace Market\",\"ALDI\",\"Cook's Star Market\",\"ALDI\",\"Mi Favorita Supermercado\",\"Dollar General\",\"Dollar General\",\"Gladeville Smoke Shop\",\"Dollar General\",\"DG Market + pOpshelf\",\"Jamison Market\",\"Walmart Supercenter\",\"Jr's Foodland\",\"Dollar General\",\"Drew's Market\",\"Dollar General\",\"Teter's Market\",\"Dollar General\",\"Chip's Quik Stop\",\"Save A Lot\",\"Dollar General\",\"Larro's Market\",\"Ibex Minimart\",\"Gordon Food Service GFS\",\"Fairview Stop & Save Market\",\"Al Sanabil Bakery & Market\",\"Oriental Food Market\",\"Dollar General\",\"Walmart Neighborhood Market\",\"Kroger\",\"DG Market\",\"The Grill at Green Hills - Whole Foods Grill\",\"49 Market\",\"Old Hwy Market\",\"Kroger\",\"Cedar Creek Market\",\"Rapid Pak\",\"Food Lion\",\"Dollar General\",\"Publix Super Markets\",\"Trading Post Market\",\"Super Suppers\",\"Rollins Drive-In Market & Storage\",\"Dollar General Market\",\"Lanexang Oriental Market\",\"Sphinx Restaurant & Discount Tobacco Market\",\"Publix Pharmacy\",\"Laolanexang  Oriental Enterprises\",\"Dollar General\",\"Dollar General\",\"Best Stop\",\"Publix\",\"Kwik Mart\",\"Las-Americas Market\",\"Dollar General\",\"Super Mercado Latina\",\"Mekong Market\",\"Dollar General\",\"Dollar General\",\"Kwik Sak\",\"Dollar General\",\"Mercados Marias\",\"Richard & Betty Reed Produce Market\",\"Dollar General\",\"BJ's Wholesale Club\",\"Associated Wholesale Grocers\",\"40th Avenue Market\",\"Mi Placita Mexican Grocery\",\"Dollar General\",\"El Parasio Supermercado Y Carniceria\",\"Walmart Supercenter\",\"Mapco Express 3200\",\"Dollar General\",\"Kroger\",\"Inglewood Drive-In Market\",\"Carniceria Dominguez\",\"L & E Market\",\"Dollar General\",\"Dollar General\",\"NW Broad Shell\",\"Dollar General\",\"Dollar General\",\"Bread Box Food Store # 131\",\"Dollar General\",\"Dollar General\",\"Dollar General\",\"Dollar General\",\"Dollar General\",\"Dollar General\",\"Dollar General\",\"Dollar General\",\"Huff's Grocery\",\"ALDI\",\"Dollar General\",\"Dollar General\",\"Dollar General Market\",\"Dollar General\",\"Dollar General\",\"Dollar General\",\"Food Lion\",\"Dollar General\",\"Dollar General\",\"Save A Lot\",\"Dollar General\",\"Burnett's Marathon\",\"Jingo Market\",\"Curtis Cross Roads Market\",\"Stop N Buy\",\"Mapco Express 3308\",\"Bp Oil\"],\"type\":\"scattermapbox\"}],                        {\"template\":{\"data\":{\"histogram2dcontour\":[{\"type\":\"histogram2dcontour\",\"colorbar\":{\"outlinewidth\":0,\"ticks\":\"\"},\"colorscale\":[[0.0,\"#0d0887\"],[0.1111111111111111,\"#46039f\"],[0.2222222222222222,\"#7201a8\"],[0.3333333333333333,\"#9c179e\"],[0.4444444444444444,\"#bd3786\"],[0.5555555555555556,\"#d8576b\"],[0.6666666666666666,\"#ed7953\"],[0.7777777777777778,\"#fb9f3a\"],[0.8888888888888888,\"#fdca26\"],[1.0,\"#f0f921\"]]}],\"choropleth\":[{\"type\":\"choropleth\",\"colorbar\":{\"outlinewidth\":0,\"ticks\":\"\"}}],\"histogram2d\":[{\"type\":\"histogram2d\",\"colorbar\":{\"outlinewidth\":0,\"ticks\":\"\"},\"colorscale\":[[0.0,\"#0d0887\"],[0.1111111111111111,\"#46039f\"],[0.2222222222222222,\"#7201a8\"],[0.3333333333333333,\"#9c179e\"],[0.4444444444444444,\"#bd3786\"],[0.5555555555555556,\"#d8576b\"],[0.6666666666666666,\"#ed7953\"],[0.7777777777777778,\"#fb9f3a\"],[0.8888888888888888,\"#fdca26\"],[1.0,\"#f0f921\"]]}],\"heatmap\":[{\"type\":\"heatmap\",\"colorbar\":{\"outlinewidth\":0,\"ticks\":\"\"},\"colorscale\":[[0.0,\"#0d0887\"],[0.1111111111111111,\"#46039f\"],[0.2222222222222222,\"#7201a8\"],[0.3333333333333333,\"#9c179e\"],[0.4444444444444444,\"#bd3786\"],[0.5555555555555556,\"#d8576b\"],[0.6666666666666666,\"#ed7953\"],[0.7777777777777778,\"#fb9f3a\"],[0.8888888888888888,\"#fdca26\"],[1.0,\"#f0f921\"]]}],\"heatmapgl\":[{\"type\":\"heatmapgl\",\"colorbar\":{\"outlinewidth\":0,\"ticks\":\"\"},\"colorscale\":[[0.0,\"#0d0887\"],[0.1111111111111111,\"#46039f\"],[0.2222222222222222,\"#7201a8\"],[0.3333333333333333,\"#9c179e\"],[0.4444444444444444,\"#bd3786\"],[0.5555555555555556,\"#d8576b\"],[0.6666666666666666,\"#ed7953\"],[0.7777777777777778,\"#fb9f3a\"],[0.8888888888888888,\"#fdca26\"],[1.0,\"#f0f921\"]]}],\"contourcarpet\":[{\"type\":\"contourcarpet\",\"colorbar\":{\"outlinewidth\":0,\"ticks\":\"\"}}],\"contour\":[{\"type\":\"contour\",\"colorbar\":{\"outlinewidth\":0,\"ticks\":\"\"},\"colorscale\":[[0.0,\"#0d0887\"],[0.1111111111111111,\"#46039f\"],[0.2222222222222222,\"#7201a8\"],[0.3333333333333333,\"#9c179e\"],[0.4444444444444444,\"#bd3786\"],[0.5555555555555556,\"#d8576b\"],[0.6666666666666666,\"#ed7953\"],[0.7777777777777778,\"#fb9f3a\"],[0.8888888888888888,\"#fdca26\"],[1.0,\"#f0f921\"]]}],\"surface\":[{\"type\":\"surface\",\"colorbar\":{\"outlinewidth\":0,\"ticks\":\"\"},\"colorscale\":[[0.0,\"#0d0887\"],[0.1111111111111111,\"#46039f\"],[0.2222222222222222,\"#7201a8\"],[0.3333333333333333,\"#9c179e\"],[0.4444444444444444,\"#bd3786\"],[0.5555555555555556,\"#d8576b\"],[0.6666666666666666,\"#ed7953\"],[0.7777777777777778,\"#fb9f3a\"],[0.8888888888888888,\"#fdca26\"],[1.0,\"#f0f921\"]]}],\"mesh3d\":[{\"type\":\"mesh3d\",\"colorbar\":{\"outlinewidth\":0,\"ticks\":\"\"}}],\"scatter\":[{\"fillpattern\":{\"fillmode\":\"overlay\",\"size\":10,\"solidity\":0.2},\"type\":\"scatter\"}],\"parcoords\":[{\"type\":\"parcoords\",\"line\":{\"colorbar\":{\"outlinewidth\":0,\"ticks\":\"\"}}}],\"scatterpolargl\":[{\"type\":\"scatterpolargl\",\"marker\":{\"colorbar\":{\"outlinewidth\":0,\"ticks\":\"\"}}}],\"bar\":[{\"error_x\":{\"color\":\"#2a3f5f\"},\"error_y\":{\"color\":\"#2a3f5f\"},\"marker\":{\"line\":{\"color\":\"#E5ECF6\",\"width\":0.5},\"pattern\":{\"fillmode\":\"overlay\",\"size\":10,\"solidity\":0.2}},\"type\":\"bar\"}],\"scattergeo\":[{\"type\":\"scattergeo\",\"marker\":{\"colorbar\":{\"outlinewidth\":0,\"ticks\":\"\"}}}],\"scatterpolar\":[{\"type\":\"scatterpolar\",\"marker\":{\"colorbar\":{\"outlinewidth\":0,\"ticks\":\"\"}}}],\"histogram\":[{\"marker\":{\"pattern\":{\"fillmode\":\"overlay\",\"size\":10,\"solidity\":0.2}},\"type\":\"histogram\"}],\"scattergl\":[{\"type\":\"scattergl\",\"marker\":{\"colorbar\":{\"outlinewidth\":0,\"ticks\":\"\"}}}],\"scatter3d\":[{\"type\":\"scatter3d\",\"line\":{\"colorbar\":{\"outlinewidth\":0,\"ticks\":\"\"}},\"marker\":{\"colorbar\":{\"outlinewidth\":0,\"ticks\":\"\"}}}],\"scattermapbox\":[{\"type\":\"scattermapbox\",\"marker\":{\"colorbar\":{\"outlinewidth\":0,\"ticks\":\"\"}}}],\"scatterternary\":[{\"type\":\"scatterternary\",\"marker\":{\"colorbar\":{\"outlinewidth\":0,\"ticks\":\"\"}}}],\"scattercarpet\":[{\"type\":\"scattercarpet\",\"marker\":{\"colorbar\":{\"outlinewidth\":0,\"ticks\":\"\"}}}],\"carpet\":[{\"aaxis\":{\"endlinecolor\":\"#2a3f5f\",\"gridcolor\":\"white\",\"linecolor\":\"white\",\"minorgridcolor\":\"white\",\"startlinecolor\":\"#2a3f5f\"},\"baxis\":{\"endlinecolor\":\"#2a3f5f\",\"gridcolor\":\"white\",\"linecolor\":\"white\",\"minorgridcolor\":\"white\",\"startlinecolor\":\"#2a3f5f\"},\"type\":\"carpet\"}],\"table\":[{\"cells\":{\"fill\":{\"color\":\"#EBF0F8\"},\"line\":{\"color\":\"white\"}},\"header\":{\"fill\":{\"color\":\"#C8D4E3\"},\"line\":{\"color\":\"white\"}},\"type\":\"table\"}],\"barpolar\":[{\"marker\":{\"line\":{\"color\":\"#E5ECF6\",\"width\":0.5},\"pattern\":{\"fillmode\":\"overlay\",\"size\":10,\"solidity\":0.2}},\"type\":\"barpolar\"}],\"pie\":[{\"automargin\":true,\"type\":\"pie\"}]},\"layout\":{\"autotypenumbers\":\"strict\",\"colorway\":[\"#636efa\",\"#EF553B\",\"#00cc96\",\"#ab63fa\",\"#FFA15A\",\"#19d3f3\",\"#FF6692\",\"#B6E880\",\"#FF97FF\",\"#FECB52\"],\"font\":{\"color\":\"#2a3f5f\"},\"hovermode\":\"closest\",\"hoverlabel\":{\"align\":\"left\"},\"paper_bgcolor\":\"white\",\"plot_bgcolor\":\"#E5ECF6\",\"polar\":{\"bgcolor\":\"#E5ECF6\",\"angularaxis\":{\"gridcolor\":\"white\",\"linecolor\":\"white\",\"ticks\":\"\"},\"radialaxis\":{\"gridcolor\":\"white\",\"linecolor\":\"white\",\"ticks\":\"\"}},\"ternary\":{\"bgcolor\":\"#E5ECF6\",\"aaxis\":{\"gridcolor\":\"white\",\"linecolor\":\"white\",\"ticks\":\"\"},\"baxis\":{\"gridcolor\":\"white\",\"linecolor\":\"white\",\"ticks\":\"\"},\"caxis\":{\"gridcolor\":\"white\",\"linecolor\":\"white\",\"ticks\":\"\"}},\"coloraxis\":{\"colorbar\":{\"outlinewidth\":0,\"ticks\":\"\"}},\"colorscale\":{\"sequential\":[[0.0,\"#0d0887\"],[0.1111111111111111,\"#46039f\"],[0.2222222222222222,\"#7201a8\"],[0.3333333333333333,\"#9c179e\"],[0.4444444444444444,\"#bd3786\"],[0.5555555555555556,\"#d8576b\"],[0.6666666666666666,\"#ed7953\"],[0.7777777777777778,\"#fb9f3a\"],[0.8888888888888888,\"#fdca26\"],[1.0,\"#f0f921\"]],\"sequentialminus\":[[0.0,\"#0d0887\"],[0.1111111111111111,\"#46039f\"],[0.2222222222222222,\"#7201a8\"],[0.3333333333333333,\"#9c179e\"],[0.4444444444444444,\"#bd3786\"],[0.5555555555555556,\"#d8576b\"],[0.6666666666666666,\"#ed7953\"],[0.7777777777777778,\"#fb9f3a\"],[0.8888888888888888,\"#fdca26\"],[1.0,\"#f0f921\"]],\"diverging\":[[0,\"#8e0152\"],[0.1,\"#c51b7d\"],[0.2,\"#de77ae\"],[0.3,\"#f1b6da\"],[0.4,\"#fde0ef\"],[0.5,\"#f7f7f7\"],[0.6,\"#e6f5d0\"],[0.7,\"#b8e186\"],[0.8,\"#7fbc41\"],[0.9,\"#4d9221\"],[1,\"#276419\"]]},\"xaxis\":{\"gridcolor\":\"white\",\"linecolor\":\"white\",\"ticks\":\"\",\"title\":{\"standoff\":15},\"zerolinecolor\":\"white\",\"automargin\":true,\"zerolinewidth\":2},\"yaxis\":{\"gridcolor\":\"white\",\"linecolor\":\"white\",\"ticks\":\"\",\"title\":{\"standoff\":15},\"zerolinecolor\":\"white\",\"automargin\":true,\"zerolinewidth\":2},\"scene\":{\"xaxis\":{\"backgroundcolor\":\"#E5ECF6\",\"gridcolor\":\"white\",\"linecolor\":\"white\",\"showbackground\":true,\"ticks\":\"\",\"zerolinecolor\":\"white\",\"gridwidth\":2},\"yaxis\":{\"backgroundcolor\":\"#E5ECF6\",\"gridcolor\":\"white\",\"linecolor\":\"white\",\"showbackground\":true,\"ticks\":\"\",\"zerolinecolor\":\"white\",\"gridwidth\":2},\"zaxis\":{\"backgroundcolor\":\"#E5ECF6\",\"gridcolor\":\"white\",\"linecolor\":\"white\",\"showbackground\":true,\"ticks\":\"\",\"zerolinecolor\":\"white\",\"gridwidth\":2}},\"shapedefaults\":{\"line\":{\"color\":\"#2a3f5f\"}},\"annotationdefaults\":{\"arrowcolor\":\"#2a3f5f\",\"arrowhead\":0,\"arrowwidth\":1},\"geo\":{\"bgcolor\":\"white\",\"landcolor\":\"#E5ECF6\",\"subunitcolor\":\"white\",\"showland\":true,\"showlakes\":true,\"lakecolor\":\"white\"},\"title\":{\"x\":0.05},\"mapbox\":{\"style\":\"light\"}}},\"mapbox\":{\"domain\":{\"x\":[0.0,1.0],\"y\":[0.0,1.0]},\"center\":{\"lat\":36.10548845604066,\"lon\":-86.70408569055326},\"zoom\":10,\"style\":\"open-street-map\"},\"legend\":{\"tracegroupgap\":0,\"itemsizing\":\"constant\"},\"margin\":{\"t\":60}},                        {\"responsive\": true}                    ).then(function(){\n",
       "                            \n",
       "var gd = document.getElementById('5bd3fc11-559e-41ab-9d97-2e2c18126210');\n",
       "var x = new MutationObserver(function (mutations, observer) {{\n",
       "        var display = window.getComputedStyle(gd).display;\n",
       "        if (!display || display === 'none') {{\n",
       "            console.log([gd, 'removed!']);\n",
       "            Plotly.purge(gd);\n",
       "            observer.disconnect();\n",
       "        }}\n",
       "}});\n",
       "\n",
       "// Listen for the removal of the full notebook cells\n",
       "var notebookContainer = gd.closest('#notebook-container');\n",
       "if (notebookContainer) {{\n",
       "    x.observe(notebookContainer, {childList: true});\n",
       "}}\n",
       "\n",
       "// Listen for the clearing of the current output cell\n",
       "var outputEl = gd.closest('.output');\n",
       "if (outputEl) {{\n",
       "    x.observe(outputEl, {childList: true});\n",
       "}}\n",
       "\n",
       "                        })                };                });            </script>        </div>"
      ]
     },
     "metadata": {},
     "output_type": "display_data"
    }
   ],
   "source": [
    "import requests\n",
    "import pandas as pd\n",
    "import plotly.express as px\n",
    "\n",
    "api_key = '26BhmZgEVnB1U7Is8zcMYXC82ZxiTLRV-Qq1IIZenqK-I4-w9FiYQ9zh1FKw9AVAl-vxfvm0YvE3NRcoq-F8gG6ShmktY_oktLc8HoBngTQhP9fXc1fOIxfWOyGCZXYx'\n",
    "location = 'Nashville'\n",
    "\n",
    "# Set up the API request URL\n",
    "url = 'https://api.yelp.com/v3/businesses/search'\n",
    "headers = {\n",
    "    'Authorization': f'Bearer {api_key}',\n",
    "}\n",
    "params = {\n",
    "    'term': 'grocery store',\n",
    "    'location': location,\n",
    "    'categories': 'grocery',\n",
    "}\n",
    "\n",
    "# Initialize variables for pagination\n",
    "offset = 0\n",
    "total_results = float('inf')  # Set to a very large number initially\n",
    "all_businesses = []\n",
    "\n",
    "# Continue fetching results until all businesses are retrieved\n",
    "while offset < total_results:\n",
    "    # Update the offset parameter\n",
    "    params['offset'] = offset\n",
    "\n",
    "    # Make the request\n",
    "    response = requests.get(url, headers=headers, params=params)\n",
    "    data = response.json()\n",
    "\n",
    "    # Process the response data\n",
    "    if 'businesses' in data:\n",
    "        all_businesses.extend(data['businesses'])\n",
    "    else:\n",
    "        print('No results found')\n",
    "        break\n",
    "\n",
    "    # Update the offset for the next iteration\n",
    "    offset += len(data.get('businesses', []))\n",
    "\n",
    "    # Update the total_results variable\n",
    "    total_results = data.get('total', 0)\n",
    "\n",
    "# Extract relevant information\n",
    "names = [business['name'] for business in all_businesses]\n",
    "addresses = [business['location']['address1'] for business in all_businesses]\n",
    "latitudes = [business['coordinates']['latitude'] for business in all_businesses]\n",
    "longitudes = [business['coordinates']['longitude'] for business in all_businesses]\n",
    "\n",
    "# Create a DataFrame\n",
    "df = pd.DataFrame({\n",
    "    'Name': names,\n",
    "    'Address': addresses,\n",
    "    'Latitude': latitudes,\n",
    "    'Longitude': longitudes,\n",
    "})\n",
    "\n",
    "df['Size'] = df['Name'].apply(len)\n",
    "\n",
    "# Create an interactive map using Plotly Express\n",
    "fig = px.scatter_mapbox(\n",
    "    df,\n",
    "    lat='Latitude',\n",
    "    lon='Longitude',\n",
    "    text='Name',\n",
    "    hover_name='Name',\n",
    "    hover_data=['Address'],\n",
    "    mapbox_style='open-street-map',\n",
    "    zoom=10,\n",
    "    size_max=7,  # Adjust the maximum marker size\n",
    "    size='Size',  # Use the 'Size' column for variable marker sizes\n",
    ")\n",
    "\n",
    "# Show the map\n",
    "fig.show()\n",
    "\n"
   ]
  },
  {
   "cell_type": "code",
   "execution_count": 20,
   "id": "a635cdeb",
   "metadata": {},
   "outputs": [
    {
     "data": {
      "text/html": [
       "<div>\n",
       "<style scoped>\n",
       "    .dataframe tbody tr th:only-of-type {\n",
       "        vertical-align: middle;\n",
       "    }\n",
       "\n",
       "    .dataframe tbody tr th {\n",
       "        vertical-align: top;\n",
       "    }\n",
       "\n",
       "    .dataframe thead th {\n",
       "        text-align: right;\n",
       "    }\n",
       "</style>\n",
       "<table border=\"1\" class=\"dataframe\">\n",
       "  <thead>\n",
       "    <tr style=\"text-align: right;\">\n",
       "      <th></th>\n",
       "      <th>Name</th>\n",
       "      <th>Address</th>\n",
       "      <th>Latitude</th>\n",
       "      <th>Longitude</th>\n",
       "    </tr>\n",
       "  </thead>\n",
       "  <tbody>\n",
       "    <tr>\n",
       "      <th>0</th>\n",
       "      <td>Publix Supermarket</td>\n",
       "      <td>1010 Dr Martin L King Jr Blvd</td>\n",
       "      <td>36.163321</td>\n",
       "      <td>-86.789647</td>\n",
       "    </tr>\n",
       "    <tr>\n",
       "      <th>1</th>\n",
       "      <td>Whole Foods - Broadway</td>\n",
       "      <td>1202 Broadway</td>\n",
       "      <td>36.156768</td>\n",
       "      <td>-86.788061</td>\n",
       "    </tr>\n",
       "    <tr>\n",
       "      <th>2</th>\n",
       "      <td>Publix</td>\n",
       "      <td>4324 Harding Pike</td>\n",
       "      <td>36.126121</td>\n",
       "      <td>-86.846211</td>\n",
       "    </tr>\n",
       "    <tr>\n",
       "      <th>3</th>\n",
       "      <td>Publix</td>\n",
       "      <td>2223 8th Ave S</td>\n",
       "      <td>36.128850</td>\n",
       "      <td>-86.778450</td>\n",
       "    </tr>\n",
       "    <tr>\n",
       "      <th>4</th>\n",
       "      <td>Whole Foods Market</td>\n",
       "      <td>1202 Broadway</td>\n",
       "      <td>36.156300</td>\n",
       "      <td>-86.788600</td>\n",
       "    </tr>\n",
       "    <tr>\n",
       "      <th>5</th>\n",
       "      <td>Kroger</td>\n",
       "      <td>2201 21st Ave. S</td>\n",
       "      <td>36.130146</td>\n",
       "      <td>-86.802482</td>\n",
       "    </tr>\n",
       "    <tr>\n",
       "      <th>6</th>\n",
       "      <td>Southernaire Market</td>\n",
       "      <td>150 3rd Ave S</td>\n",
       "      <td>36.159922</td>\n",
       "      <td>-86.774118</td>\n",
       "    </tr>\n",
       "    <tr>\n",
       "      <th>7</th>\n",
       "      <td>Publix</td>\n",
       "      <td>2324 Lebanon Pike</td>\n",
       "      <td>36.169018</td>\n",
       "      <td>-86.683870</td>\n",
       "    </tr>\n",
       "    <tr>\n",
       "      <th>8</th>\n",
       "      <td>Kroger</td>\n",
       "      <td>2615 Franklin Pike</td>\n",
       "      <td>36.119944</td>\n",
       "      <td>-86.777180</td>\n",
       "    </tr>\n",
       "    <tr>\n",
       "      <th>9</th>\n",
       "      <td>Kroger</td>\n",
       "      <td>800 Monroe St</td>\n",
       "      <td>36.175772</td>\n",
       "      <td>-86.794253</td>\n",
       "    </tr>\n",
       "    <tr>\n",
       "      <th>10</th>\n",
       "      <td>Trader Joe's</td>\n",
       "      <td>3909 Hillsboro Pike</td>\n",
       "      <td>36.105090</td>\n",
       "      <td>-86.815280</td>\n",
       "    </tr>\n",
       "    <tr>\n",
       "      <th>11</th>\n",
       "      <td>Walmart Supercenter</td>\n",
       "      <td>2421 Powell Ave</td>\n",
       "      <td>36.110970</td>\n",
       "      <td>-86.769370</td>\n",
       "    </tr>\n",
       "    <tr>\n",
       "      <th>12</th>\n",
       "      <td>Kroger</td>\n",
       "      <td>2131 Abbott Martin Rd</td>\n",
       "      <td>36.105680</td>\n",
       "      <td>-86.818440</td>\n",
       "    </tr>\n",
       "    <tr>\n",
       "      <th>13</th>\n",
       "      <td>Kroger</td>\n",
       "      <td>2284 Murfreesboro Pike</td>\n",
       "      <td>36.088440</td>\n",
       "      <td>-86.647730</td>\n",
       "    </tr>\n",
       "    <tr>\n",
       "      <th>14</th>\n",
       "      <td>Piggly Wiggly</td>\n",
       "      <td>2317 Dickerson Pike</td>\n",
       "      <td>36.207752</td>\n",
       "      <td>-86.767036</td>\n",
       "    </tr>\n",
       "    <tr>\n",
       "      <th>15</th>\n",
       "      <td>Publix Super Markets</td>\n",
       "      <td>8028 Highway 100</td>\n",
       "      <td>36.047073</td>\n",
       "      <td>-86.952184</td>\n",
       "    </tr>\n",
       "    <tr>\n",
       "      <th>16</th>\n",
       "      <td>The BE Hive</td>\n",
       "      <td>2414 Gallatin Ave</td>\n",
       "      <td>36.194887</td>\n",
       "      <td>-86.743203</td>\n",
       "    </tr>\n",
       "    <tr>\n",
       "      <th>17</th>\n",
       "      <td>Smokin Oaks Organic Farms Market</td>\n",
       "      <td>2116 8th Ave S</td>\n",
       "      <td>36.131290</td>\n",
       "      <td>-86.778400</td>\n",
       "    </tr>\n",
       "    <tr>\n",
       "      <th>18</th>\n",
       "      <td>Uptown Fruit Market</td>\n",
       "      <td>1431 Dickerson Pike</td>\n",
       "      <td>36.199885</td>\n",
       "      <td>-86.769471</td>\n",
       "    </tr>\n",
       "    <tr>\n",
       "      <th>19</th>\n",
       "      <td>Sprouts Farmers Market</td>\n",
       "      <td>7620 Highway 70 S</td>\n",
       "      <td>36.079969</td>\n",
       "      <td>-86.949078</td>\n",
       "    </tr>\n",
       "  </tbody>\n",
       "</table>\n",
       "</div>"
      ],
      "text/plain": [
       "                                Name                        Address  \\\n",
       "0                 Publix Supermarket  1010 Dr Martin L King Jr Blvd   \n",
       "1             Whole Foods - Broadway                  1202 Broadway   \n",
       "2                             Publix              4324 Harding Pike   \n",
       "3                             Publix                 2223 8th Ave S   \n",
       "4                 Whole Foods Market                  1202 Broadway   \n",
       "5                             Kroger               2201 21st Ave. S   \n",
       "6                Southernaire Market                  150 3rd Ave S   \n",
       "7                             Publix              2324 Lebanon Pike   \n",
       "8                             Kroger             2615 Franklin Pike   \n",
       "9                             Kroger                  800 Monroe St   \n",
       "10                      Trader Joe's            3909 Hillsboro Pike   \n",
       "11               Walmart Supercenter                2421 Powell Ave   \n",
       "12                            Kroger          2131 Abbott Martin Rd   \n",
       "13                            Kroger         2284 Murfreesboro Pike   \n",
       "14                     Piggly Wiggly            2317 Dickerson Pike   \n",
       "15              Publix Super Markets               8028 Highway 100   \n",
       "16                       The BE Hive              2414 Gallatin Ave   \n",
       "17  Smokin Oaks Organic Farms Market                 2116 8th Ave S   \n",
       "18              Uptown Fruit Market             1431 Dickerson Pike   \n",
       "19            Sprouts Farmers Market              7620 Highway 70 S   \n",
       "\n",
       "     Latitude  Longitude  \n",
       "0   36.163321 -86.789647  \n",
       "1   36.156768 -86.788061  \n",
       "2   36.126121 -86.846211  \n",
       "3   36.128850 -86.778450  \n",
       "4   36.156300 -86.788600  \n",
       "5   36.130146 -86.802482  \n",
       "6   36.159922 -86.774118  \n",
       "7   36.169018 -86.683870  \n",
       "8   36.119944 -86.777180  \n",
       "9   36.175772 -86.794253  \n",
       "10  36.105090 -86.815280  \n",
       "11  36.110970 -86.769370  \n",
       "12  36.105680 -86.818440  \n",
       "13  36.088440 -86.647730  \n",
       "14  36.207752 -86.767036  \n",
       "15  36.047073 -86.952184  \n",
       "16  36.194887 -86.743203  \n",
       "17  36.131290 -86.778400  \n",
       "18  36.199885 -86.769471  \n",
       "19  36.079969 -86.949078  "
      ]
     },
     "execution_count": 20,
     "metadata": {},
     "output_type": "execute_result"
    }
   ],
   "source": [
    "df"
   ]
  },
  {
   "cell_type": "code",
   "execution_count": 7,
   "id": "e667263c",
   "metadata": {
    "scrolled": true
   },
   "outputs": [
    {
     "data": {
      "text/html": [
       "<div>\n",
       "<style scoped>\n",
       "    .dataframe tbody tr th:only-of-type {\n",
       "        vertical-align: middle;\n",
       "    }\n",
       "\n",
       "    .dataframe tbody tr th {\n",
       "        vertical-align: top;\n",
       "    }\n",
       "\n",
       "    .dataframe thead th {\n",
       "        text-align: right;\n",
       "    }\n",
       "</style>\n",
       "<table border=\"1\" class=\"dataframe\">\n",
       "  <thead>\n",
       "    <tr style=\"text-align: right;\">\n",
       "      <th></th>\n",
       "      <th>CensusTract</th>\n",
       "    </tr>\n",
       "  </thead>\n",
       "  <tbody>\n",
       "    <tr>\n",
       "      <th>0</th>\n",
       "      <td>47037010401</td>\n",
       "    </tr>\n",
       "    <tr>\n",
       "      <th>1</th>\n",
       "      <td>47037010402</td>\n",
       "    </tr>\n",
       "    <tr>\n",
       "      <th>2</th>\n",
       "      <td>47037010501</td>\n",
       "    </tr>\n",
       "    <tr>\n",
       "      <th>3</th>\n",
       "      <td>47037010602</td>\n",
       "    </tr>\n",
       "    <tr>\n",
       "      <th>4</th>\n",
       "      <td>47037010801</td>\n",
       "    </tr>\n",
       "    <tr>\n",
       "      <th>5</th>\n",
       "      <td>47037010903</td>\n",
       "    </tr>\n",
       "    <tr>\n",
       "      <th>6</th>\n",
       "      <td>47037010904</td>\n",
       "    </tr>\n",
       "    <tr>\n",
       "      <th>7</th>\n",
       "      <td>47037012701</td>\n",
       "    </tr>\n",
       "    <tr>\n",
       "      <th>8</th>\n",
       "      <td>47037012702</td>\n",
       "    </tr>\n",
       "    <tr>\n",
       "      <th>9</th>\n",
       "      <td>47037012801</td>\n",
       "    </tr>\n",
       "    <tr>\n",
       "      <th>10</th>\n",
       "      <td>47037012802</td>\n",
       "    </tr>\n",
       "    <tr>\n",
       "      <th>11</th>\n",
       "      <td>47037013000</td>\n",
       "    </tr>\n",
       "    <tr>\n",
       "      <th>12</th>\n",
       "      <td>47037013601</td>\n",
       "    </tr>\n",
       "    <tr>\n",
       "      <th>13</th>\n",
       "      <td>47037013602</td>\n",
       "    </tr>\n",
       "    <tr>\n",
       "      <th>14</th>\n",
       "      <td>47037014300</td>\n",
       "    </tr>\n",
       "    <tr>\n",
       "      <th>15</th>\n",
       "      <td>47037015404</td>\n",
       "    </tr>\n",
       "    <tr>\n",
       "      <th>16</th>\n",
       "      <td>47037015502</td>\n",
       "    </tr>\n",
       "    <tr>\n",
       "      <th>17</th>\n",
       "      <td>47037015613</td>\n",
       "    </tr>\n",
       "    <tr>\n",
       "      <th>18</th>\n",
       "      <td>47037017200</td>\n",
       "    </tr>\n",
       "    <tr>\n",
       "      <th>19</th>\n",
       "      <td>47037017300</td>\n",
       "    </tr>\n",
       "    <tr>\n",
       "      <th>20</th>\n",
       "      <td>47037018901</td>\n",
       "    </tr>\n",
       "    <tr>\n",
       "      <th>21</th>\n",
       "      <td>47037018905</td>\n",
       "    </tr>\n",
       "    <tr>\n",
       "      <th>22</th>\n",
       "      <td>47037019109</td>\n",
       "    </tr>\n",
       "    <tr>\n",
       "      <th>23</th>\n",
       "      <td>47037019111</td>\n",
       "    </tr>\n",
       "    <tr>\n",
       "      <th>24</th>\n",
       "      <td>47037019112</td>\n",
       "    </tr>\n",
       "    <tr>\n",
       "      <th>25</th>\n",
       "      <td>47037019118</td>\n",
       "    </tr>\n",
       "    <tr>\n",
       "      <th>26</th>\n",
       "      <td>47037019600</td>\n",
       "    </tr>\n",
       "  </tbody>\n",
       "</table>\n",
       "</div>"
      ],
      "text/plain": [
       "    CensusTract\n",
       "0   47037010401\n",
       "1   47037010402\n",
       "2   47037010501\n",
       "3   47037010602\n",
       "4   47037010801\n",
       "5   47037010903\n",
       "6   47037010904\n",
       "7   47037012701\n",
       "8   47037012702\n",
       "9   47037012801\n",
       "10  47037012802\n",
       "11  47037013000\n",
       "12  47037013601\n",
       "13  47037013602\n",
       "14  47037014300\n",
       "15  47037015404\n",
       "16  47037015502\n",
       "17  47037015613\n",
       "18  47037017200\n",
       "19  47037017300\n",
       "20  47037018901\n",
       "21  47037018905\n",
       "22  47037019109\n",
       "23  47037019111\n",
       "24  47037019112\n",
       "25  47037019118\n",
       "26  47037019600"
      ]
     },
     "execution_count": 7,
     "metadata": {},
     "output_type": "execute_result"
    }
   ],
   "source": [
    "import pandas as pd\n",
    "\n",
    "flagged_df = pd.read_excel('Data/FoodDesertCensusTract.xlsx')\n",
    "\n",
    "flagged_df"
   ]
  },
  {
   "cell_type": "code",
   "execution_count": 8,
   "id": "919ae895",
   "metadata": {},
   "outputs": [
    {
     "data": {
      "text/html": [
       "<div>\n",
       "<style scoped>\n",
       "    .dataframe tbody tr th:only-of-type {\n",
       "        vertical-align: middle;\n",
       "    }\n",
       "\n",
       "    .dataframe tbody tr th {\n",
       "        vertical-align: top;\n",
       "    }\n",
       "\n",
       "    .dataframe thead th {\n",
       "        text-align: right;\n",
       "    }\n",
       "</style>\n",
       "<table border=\"1\" class=\"dataframe\">\n",
       "  <thead>\n",
       "    <tr style=\"text-align: right;\">\n",
       "      <th></th>\n",
       "      <th>Geo_ID</th>\n",
       "      <th>Census_Tract</th>\n",
       "      <th>Extreme_Poverty</th>\n",
       "    </tr>\n",
       "  </thead>\n",
       "  <tbody>\n",
       "    <tr>\n",
       "      <th>0</th>\n",
       "      <td>1400000US47037010103</td>\n",
       "      <td>101.03</td>\n",
       "      <td>0.038</td>\n",
       "    </tr>\n",
       "    <tr>\n",
       "      <th>1</th>\n",
       "      <td>1400000US47037010104</td>\n",
       "      <td>101.04</td>\n",
       "      <td>0.012</td>\n",
       "    </tr>\n",
       "    <tr>\n",
       "      <th>2</th>\n",
       "      <td>1400000US47037010105</td>\n",
       "      <td>101.05</td>\n",
       "      <td>0.057</td>\n",
       "    </tr>\n",
       "    <tr>\n",
       "      <th>3</th>\n",
       "      <td>1400000US47037010106</td>\n",
       "      <td>101.06</td>\n",
       "      <td>0.091</td>\n",
       "    </tr>\n",
       "    <tr>\n",
       "      <th>4</th>\n",
       "      <td>1400000US47037010201</td>\n",
       "      <td>102.01</td>\n",
       "      <td>0.057</td>\n",
       "    </tr>\n",
       "    <tr>\n",
       "      <th>...</th>\n",
       "      <td>...</td>\n",
       "      <td>...</td>\n",
       "      <td>...</td>\n",
       "    </tr>\n",
       "    <tr>\n",
       "      <th>169</th>\n",
       "      <td>1400000US47037019502</td>\n",
       "      <td>195.02</td>\n",
       "      <td>0.067</td>\n",
       "    </tr>\n",
       "    <tr>\n",
       "      <th>170</th>\n",
       "      <td>1400000US47037019503</td>\n",
       "      <td>195.03</td>\n",
       "      <td>0.086</td>\n",
       "    </tr>\n",
       "    <tr>\n",
       "      <th>171</th>\n",
       "      <td>1400000US47037019600</td>\n",
       "      <td>196.00</td>\n",
       "      <td>0.038</td>\n",
       "    </tr>\n",
       "    <tr>\n",
       "      <th>172</th>\n",
       "      <td>1400000US47037980100</td>\n",
       "      <td>9801.00</td>\n",
       "      <td>0.000</td>\n",
       "    </tr>\n",
       "    <tr>\n",
       "      <th>173</th>\n",
       "      <td>1400000US47037980200</td>\n",
       "      <td>9802.00</td>\n",
       "      <td>0.000</td>\n",
       "    </tr>\n",
       "  </tbody>\n",
       "</table>\n",
       "<p>174 rows × 3 columns</p>\n",
       "</div>"
      ],
      "text/plain": [
       "                   Geo_ID  Census_Tract  Extreme_Poverty\n",
       "0    1400000US47037010103        101.03            0.038\n",
       "1    1400000US47037010104        101.04            0.012\n",
       "2    1400000US47037010105        101.05            0.057\n",
       "3    1400000US47037010106        101.06            0.091\n",
       "4    1400000US47037010201        102.01            0.057\n",
       "..                    ...           ...              ...\n",
       "169  1400000US47037019502        195.02            0.067\n",
       "170  1400000US47037019503        195.03            0.086\n",
       "171  1400000US47037019600        196.00            0.038\n",
       "172  1400000US47037980100       9801.00            0.000\n",
       "173  1400000US47037980200       9802.00            0.000\n",
       "\n",
       "[174 rows x 3 columns]"
      ]
     },
     "execution_count": 8,
     "metadata": {},
     "output_type": "execute_result"
    }
   ],
   "source": [
    "import pandas as pd\n",
    "\n",
    "extreme_df = pd.read_excel('Data/ExtremePovertyDavidson2022.xlsx')\n",
    "\n",
    "extreme_df"
   ]
  }
 ],
 "metadata": {
  "kernelspec": {
   "display_name": "Python 3 (ipykernel)",
   "language": "python",
   "name": "python3"
  },
  "language_info": {
   "codemirror_mode": {
    "name": "ipython",
    "version": 3
   },
   "file_extension": ".py",
   "mimetype": "text/x-python",
   "name": "python",
   "nbconvert_exporter": "python",
   "pygments_lexer": "ipython3",
   "version": "3.11.5"
  }
 },
 "nbformat": 4,
 "nbformat_minor": 5
}
