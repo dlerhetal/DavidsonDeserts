{
 "cells": [
  {
   "cell_type": "code",
   "execution_count": 4,
   "id": "f1c97ac6",
   "metadata": {},
   "outputs": [
    {
     "name": "stdout",
     "output_type": "stream",
     "text": [
      "(1701, 13)\n",
      "  STATEFP COUNTYFP TRACTCE        GEOID     NAME              NAMELSAD  MTFCC  \\\n",
      "0      47      175  925200  47175925200     9252     Census Tract 9252  G5020   \n",
      "1      47      175  925000  47175925000     9250     Census Tract 9250  G5020   \n",
      "2      47      003  950201  47003950201  9502.01  Census Tract 9502.01  G5020   \n",
      "3      47      003  950202  47003950202  9502.02  Census Tract 9502.02  G5020   \n",
      "4      47      093  003300  47093003300       33       Census Tract 33  G5020   \n",
      "\n",
      "  FUNCSTAT      ALAND   AWATER     INTPTLAT      INTPTLON  \\\n",
      "0        S  227429512  1667739  +35.7438100  -085.4940227   \n",
      "1        S  480712883  1225717  +35.6695378  -085.4220628   \n",
      "2        S  121774227        0  +35.6517480  -086.5575518   \n",
      "3        S  110617191   700793  +35.5845755  -086.5790796   \n",
      "4        S    5860088   229299  +36.0020586  -083.8371218   \n",
      "\n",
      "                                            geometry  \n",
      "0  POLYGON ((-85.61516 35.76106, -85.61509 35.761...  \n",
      "1  POLYGON ((-85.60513 35.70854, -85.60511 35.708...  \n",
      "2  POLYGON ((-86.64406 35.64029, -86.64375 35.642...  \n",
      "3  POLYGON ((-86.66377 35.58189, -86.66367 35.582...  \n",
      "4  POLYGON ((-83.86208 35.99255, -83.86207 35.992...  \n"
     ]
    }
   ],
   "source": [
    "import geopandas as gpd\n",
    "data = gpd.read_file('tl_2020_47_tract.shp')\n",
    "print(data.shape)\n",
    "print (data.head())"
   ]
  },
  {
   "cell_type": "code",
   "execution_count": null,
   "id": "7e12019e",
   "metadata": {},
   "outputs": [],
   "source": [
    "output_file = 'nashvilletracts.geojson'\n",
    "data.to_file(output_file, driver='GeoJSON')"
   ]
  }
 ],
 "metadata": {
  "kernelspec": {
   "display_name": "geo_env",
   "language": "python",
   "name": "geo_env"
  },
  "language_info": {
   "codemirror_mode": {
    "name": "ipython",
    "version": 3
   },
   "file_extension": ".py",
   "mimetype": "text/x-python",
   "name": "python",
   "nbconvert_exporter": "python",
   "pygments_lexer": "ipython3",
   "version": "3.12.1"
  }
 },
 "nbformat": 4,
 "nbformat_minor": 5
}
